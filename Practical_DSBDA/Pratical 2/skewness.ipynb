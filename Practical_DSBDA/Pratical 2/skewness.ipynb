{
 "cells": [
  {
   "cell_type": "code",
   "execution_count": 6,
   "id": "d427725c",
   "metadata": {},
   "outputs": [],
   "source": [
    "import pandas as pd\n",
    "df=pd.read_csv(\"C:/Users/Asus/Desktop/Practical_DSBDA/Height.csv\")"
   ]
  },
  {
   "cell_type": "code",
   "execution_count": 7,
   "id": "4e51486d",
   "metadata": {},
   "outputs": [
    {
     "data": {
      "text/html": [
       "<div>\n",
       "<style scoped>\n",
       "    .dataframe tbody tr th:only-of-type {\n",
       "        vertical-align: middle;\n",
       "    }\n",
       "\n",
       "    .dataframe tbody tr th {\n",
       "        vertical-align: top;\n",
       "    }\n",
       "\n",
       "    .dataframe thead th {\n",
       "        text-align: right;\n",
       "    }\n",
       "</style>\n",
       "<table border=\"1\" class=\"dataframe\">\n",
       "  <thead>\n",
       "    <tr style=\"text-align: right;\">\n",
       "      <th></th>\n",
       "      <th>Index</th>\n",
       "      <th>Height</th>\n",
       "      <th>Weight</th>\n",
       "    </tr>\n",
       "  </thead>\n",
       "  <tbody>\n",
       "    <tr>\n",
       "      <th>0</th>\n",
       "      <td>1</td>\n",
       "      <td>65.78331</td>\n",
       "      <td>112.9925</td>\n",
       "    </tr>\n",
       "    <tr>\n",
       "      <th>1</th>\n",
       "      <td>2</td>\n",
       "      <td>71.51521</td>\n",
       "      <td>136.4873</td>\n",
       "    </tr>\n",
       "    <tr>\n",
       "      <th>2</th>\n",
       "      <td>3</td>\n",
       "      <td>69.39874</td>\n",
       "      <td>153.0269</td>\n",
       "    </tr>\n",
       "    <tr>\n",
       "      <th>3</th>\n",
       "      <td>4</td>\n",
       "      <td>68.21660</td>\n",
       "      <td>142.3354</td>\n",
       "    </tr>\n",
       "    <tr>\n",
       "      <th>4</th>\n",
       "      <td>5</td>\n",
       "      <td>67.78781</td>\n",
       "      <td>144.2971</td>\n",
       "    </tr>\n",
       "    <tr>\n",
       "      <th>...</th>\n",
       "      <td>...</td>\n",
       "      <td>...</td>\n",
       "      <td>...</td>\n",
       "    </tr>\n",
       "    <tr>\n",
       "      <th>24995</th>\n",
       "      <td>24996</td>\n",
       "      <td>69.50215</td>\n",
       "      <td>118.0312</td>\n",
       "    </tr>\n",
       "    <tr>\n",
       "      <th>24996</th>\n",
       "      <td>24997</td>\n",
       "      <td>64.54826</td>\n",
       "      <td>120.1932</td>\n",
       "    </tr>\n",
       "    <tr>\n",
       "      <th>24997</th>\n",
       "      <td>24998</td>\n",
       "      <td>64.69855</td>\n",
       "      <td>118.2655</td>\n",
       "    </tr>\n",
       "    <tr>\n",
       "      <th>24998</th>\n",
       "      <td>24999</td>\n",
       "      <td>67.52918</td>\n",
       "      <td>132.2682</td>\n",
       "    </tr>\n",
       "    <tr>\n",
       "      <th>24999</th>\n",
       "      <td>25000</td>\n",
       "      <td>68.87761</td>\n",
       "      <td>124.8742</td>\n",
       "    </tr>\n",
       "  </tbody>\n",
       "</table>\n",
       "<p>25000 rows × 3 columns</p>\n",
       "</div>"
      ],
      "text/plain": [
       "       Index    Height    Weight\n",
       "0          1  65.78331  112.9925\n",
       "1          2  71.51521  136.4873\n",
       "2          3  69.39874  153.0269\n",
       "3          4  68.21660  142.3354\n",
       "4          5  67.78781  144.2971\n",
       "...      ...       ...       ...\n",
       "24995  24996  69.50215  118.0312\n",
       "24996  24997  64.54826  120.1932\n",
       "24997  24998  64.69855  118.2655\n",
       "24998  24999  67.52918  132.2682\n",
       "24999  25000  68.87761  124.8742\n",
       "\n",
       "[25000 rows x 3 columns]"
      ]
     },
     "execution_count": 7,
     "metadata": {},
     "output_type": "execute_result"
    }
   ],
   "source": [
    "df"
   ]
  },
  {
   "cell_type": "code",
   "execution_count": 8,
   "id": "46a9823a",
   "metadata": {},
   "outputs": [
    {
     "data": {
      "text/plain": [
       "Index     0.000000\n",
       "Height   -0.005658\n",
       "Weight   -0.026031\n",
       "dtype: float64"
      ]
     },
     "execution_count": 8,
     "metadata": {},
     "output_type": "execute_result"
    }
   ],
   "source": [
    "df.skew(axis=0)"
   ]
  },
  {
   "cell_type": "code",
   "execution_count": 9,
   "id": "5e6a3afa",
   "metadata": {},
   "outputs": [
    {
     "data": {
      "text/plain": [
       "0.5187937934151675"
      ]
     },
     "execution_count": 9,
     "metadata": {},
     "output_type": "execute_result"
    }
   ],
   "source": [
    "#Right Skewed log transformation\n",
    "import numpy as np\n",
    "np.log(1.68)"
   ]
  },
  {
   "cell_type": "code",
   "execution_count": 10,
   "id": "c25a169f",
   "metadata": {},
   "outputs": [],
   "source": [
    "\n",
    "log_aspiration_turbo=np.log(df['Height'])"
   ]
  },
  {
   "cell_type": "code",
   "execution_count": 11,
   "id": "7a18a099",
   "metadata": {},
   "outputs": [
    {
     "data": {
      "text/plain": [
       "0    4.186366\n",
       "1    4.269910\n",
       "2    4.239869\n",
       "3    4.222688\n",
       "4    4.216382\n",
       "Name: Height, dtype: float64"
      ]
     },
     "execution_count": 11,
     "metadata": {},
     "output_type": "execute_result"
    }
   ],
   "source": [
    "log_aspiration_turbo.head()"
   ]
  },
  {
   "cell_type": "code",
   "execution_count": 12,
   "id": "6769f76c",
   "metadata": {},
   "outputs": [
    {
     "data": {
      "text/plain": [
       "-0.08826398675981931"
      ]
     },
     "execution_count": 12,
     "metadata": {},
     "output_type": "execute_result"
    }
   ],
   "source": [
    "log_aspiration_turbo.skew()"
   ]
  },
  {
   "cell_type": "code",
   "execution_count": 14,
   "id": "b81662d6",
   "metadata": {},
   "outputs": [
    {
     "data": {
      "text/plain": [
       "-0.026031345790611"
      ]
     },
     "execution_count": 14,
     "metadata": {},
     "output_type": "execute_result"
    }
   ],
   "source": [
    "#Original skewed value\n",
    "df['Weight'].skew()"
   ]
  },
  {
   "cell_type": "code",
   "execution_count": 16,
   "id": "44bdf7e1",
   "metadata": {},
   "outputs": [
    {
     "data": {
      "text/plain": [
       "0    8.110691\n",
       "1    8.456667\n",
       "2    8.330591\n",
       "3    8.259334\n",
       "4    8.233335\n",
       "Name: Height, dtype: float64"
      ]
     },
     "execution_count": 16,
     "metadata": {},
     "output_type": "execute_result"
    }
   ],
   "source": [
    "#root transformation\n",
    "r_compression_ratio=np.sqrt(df['Height'])\n",
    "r_compression_ratio.head()"
   ]
  },
  {
   "cell_type": "code",
   "execution_count": 17,
   "id": "a10af94c",
   "metadata": {},
   "outputs": [
    {
     "data": {
      "text/plain": [
       "-0.04692508623449938"
      ]
     },
     "execution_count": 17,
     "metadata": {},
     "output_type": "execute_result"
    }
   ],
   "source": [
    "r_compression_ratio.skew()"
   ]
  },
  {
   "cell_type": "code",
   "execution_count": 18,
   "id": "a7db0855",
   "metadata": {},
   "outputs": [
    {
     "data": {
      "text/plain": [
       "0    4.036812\n",
       "1    4.150810\n",
       "2    4.109452\n",
       "3    4.085984\n",
       "4    4.077405\n",
       "Name: Height, dtype: float64"
      ]
     },
     "execution_count": 18,
     "metadata": {},
     "output_type": "execute_result"
    }
   ],
   "source": [
    "# cube root transformtion x=x^1/3\n",
    "cube_compression_ratio=np.cbrt(df['Height'])\n",
    "cube_compression_ratio.head(5)"
   ]
  },
  {
   "cell_type": "code",
   "execution_count": 19,
   "id": "2f127e12",
   "metadata": {},
   "outputs": [
    {
     "data": {
      "text/plain": [
       "-0.06069545953760915"
      ]
     },
     "execution_count": 19,
     "metadata": {},
     "output_type": "execute_result"
    }
   ],
   "source": [
    "cube_compression_ratio.skew()"
   ]
  },
  {
   "cell_type": "code",
   "execution_count": 22,
   "id": "5103867f",
   "metadata": {},
   "outputs": [
    {
     "data": {
      "text/plain": [
       "<Axes: >"
      ]
     },
     "execution_count": 22,
     "metadata": {},
     "output_type": "execute_result"
    },
    {
     "data": {
      "image/png": "[encoded data removed]",
      "text/plain": [
       "<Figure size 640x480 with 1 Axes>"
      ]
     },
     "metadata": {},
     "output_type": "display_data"
    }
   ],
   "source": [
    "import seaborn as sn\n",
    "sn.boxplot(df[\"Weight\"])"
   ]
  },
  {
   "cell_type": "code",
   "execution_count": 23,
   "id": "11ed0778",
   "metadata": {},
   "outputs": [
    {
     "data": {
      "text/plain": [
       "0    0.015201\n",
       "1    0.013983\n",
       "2    0.014409\n",
       "3    0.014659\n",
       "4    0.014752\n",
       "Name: Height, dtype: float64"
      ]
     },
     "execution_count": 23,
     "metadata": {},
     "output_type": "execute_result"
    }
   ],
   "source": [
    "#Reciprocals transformation x=1/x\n",
    "reci_compression_ratio=np.reciprocal(df['Height'])\n",
    "reci_compression_ratio.head(5)"
   ]
  },
  {
   "cell_type": "code",
   "execution_count": 24,
   "id": "02454678",
   "metadata": {},
   "outputs": [
    {
     "data": {
      "text/plain": [
       "0.17126194720229065"
      ]
     },
     "execution_count": 24,
     "metadata": {},
     "output_type": "execute_result"
    }
   ],
   "source": [
    "reci_compression_ratio.skew()"
   ]
  },
  {
   "cell_type": "code",
   "execution_count": 31,
   "id": "a4bd8a62",
   "metadata": {},
   "outputs": [
    {
     "name": "stderr",
     "output_type": "stream",
     "text": [
      "C:\\Users\\Asus\\AppData\\Local\\Temp\\ipykernel_15816\\4266350974.py:2: UserWarning: \n",
      "\n",
      "`distplot` is a deprecated function and will be removed in seaborn v0.14.0.\n",
      "\n",
      "Please adapt your code to use either `displot` (a figure-level function with\n",
      "similar flexibility) or `histplot` (an axes-level function for histograms).\n",
      "\n",
      "For a guide to updating your code to use the new functions, please see\n",
      "https://gist.github.com/mwaskom/de44147ed2974457ad6372750bbe5751\n",
      "\n",
      "  sn.distplot(reci_compression_ratio)\n",
      "D:\\GAMES\\anaconda\\Lib\\site-packages\\seaborn\\_oldcore.py:1119: FutureWarning: use_inf_as_na option is deprecated and will be removed in a future version. Convert inf values to NaN before operating instead.\n",
      "  with pd.option_context('mode.use_inf_as_na', True):\n"
     ]
    },
    {
     "data": {
      "text/plain": [
       "<Axes: xlabel='Height', ylabel='Density'>"
      ]
     },
     "execution_count": 31,
     "metadata": {},
     "output_type": "execute_result"
    },
    {
     "data": {
      "image/png": "[encoded data removed]",
      "text/plain": [
       "<Figure size 640x480 with 1 Axes>"
      ]
     },
     "metadata": {},
     "output_type": "display_data"
    }
   ],
   "source": [
    "import seaborn as sn\n",
    "sn.distplot(reci_compression_ratio)"
   ]
  },
  {
   "cell_type": "code",
   "execution_count": 33,
   "id": "450e02e1",
   "metadata": {},
   "outputs": [
    {
     "name": "stderr",
     "output_type": "stream",
     "text": [
      "C:\\Users\\Asus\\AppData\\Local\\Temp\\ipykernel_15816\\2976775194.py:1: UserWarning: \n",
      "\n",
      "`distplot` is a deprecated function and will be removed in seaborn v0.14.0.\n",
      "\n",
      "Please adapt your code to use either `displot` (a figure-level function with\n",
      "similar flexibility) or `histplot` (an axes-level function for histograms).\n",
      "\n",
      "For a guide to updating your code to use the new functions, please see\n",
      "https://gist.github.com/mwaskom/de44147ed2974457ad6372750bbe5751\n",
      "\n",
      "  sn.distplot(df[\"Weight\"])\n",
      "D:\\GAMES\\anaconda\\Lib\\site-packages\\seaborn\\_oldcore.py:1119: FutureWarning: use_inf_as_na option is deprecated and will be removed in a future version. Convert inf values to NaN before operating instead.\n",
      "  with pd.option_context('mode.use_inf_as_na', True):\n"
     ]
    },
    {
     "data": {
      "text/plain": [
       "<Axes: xlabel='Weight', ylabel='Density'>"
      ]
     },
     "execution_count": 33,
     "metadata": {},
     "output_type": "execute_result"
    },
    {
     "data": {
      "image/png": "[encoded data removed]",
      "text/plain": [
       "<Figure size 640x480 with 1 Axes>"
      ]
     },
     "metadata": {},
     "output_type": "display_data"
    }
   ],
   "source": [
    "sn.distplot(df[\"Weight\"])"
   ]
  },
  {
   "cell_type": "code",
   "execution_count": null,
   "id": "a553b1f1",
   "metadata": {},
   "outputs": [],
   "source": [
    "sn.distplot(df[\"stroke\"])"
   ]
  },
  {
   "cell_type": "code",
   "execution_count": null,
   "id": "1b19c5cf",
   "metadata": {},
   "outputs": [],
   "source": [
    "#original skewed value\n",
    "df[\"stroke\"].skew()"
   ]
  },
  {
   "cell_type": "code",
   "execution_count": null,
   "id": "7ddb8ab9",
   "metadata": {},
   "outputs": [],
   "source": [
    "#Square transformation x to x^2\n",
    "square_stroke=np.square(df['stroke'])\n",
    "square_stroke.head(5)"
   ]
  },
  {
   "cell_type": "code",
   "execution_count": null,
   "id": "bacc0ed7",
   "metadata": {},
   "outputs": [],
   "source": [
    "square_stroke.skew()"
   ]
  },
  {
   "cell_type": "code",
   "execution_count": null,
   "id": "f8979bc1",
   "metadata": {},
   "outputs": [],
   "source": [
    "sn.distplot(square_stroke)"
   ]
  },
  {
   "cell_type": "code",
   "execution_count": null,
   "id": "f0628b68",
   "metadata": {},
   "outputs": [],
   "source": [
    "#cubes transformation x to x^3\n",
    "cubes_stroke=np.power(df['stroke'],3)\n",
    "cubes_stroke.head(5)"
   ]
  },
  {
   "cell_type": "code",
   "execution_count": null,
   "id": "9d9e3803",
   "metadata": {},
   "outputs": [],
   "source": [
    "cubes_stroke.skew()"
   ]
  },
  {
   "cell_type": "code",
   "execution_count": null,
   "id": "8ae700eb",
   "metadata": {},
   "outputs": [],
   "source": [
    "sn.distplot(cubes_stroke)"
   ]
  },
  {
   "cell_type": "code",
   "execution_count": null,
   "id": "5ace87f8",
   "metadata": {},
   "outputs": [],
   "source": [
    "sn.distplot(df[\"length\"])"
   ]
  },
  {
   "cell_type": "markdown",
   "id": "b6fb585e",
   "metadata": {},
   "source": [
    "# Convert distribution to Normal Distribution"
   ]
  },
  {
   "cell_type": "code",
   "execution_count": null,
   "id": "1a8a888c",
   "metadata": {},
   "outputs": [],
   "source": [
    "df.skew()"
   ]
  },
  {
   "cell_type": "code",
   "execution_count": null,
   "id": "58940abc",
   "metadata": {},
   "outputs": [],
   "source": [
    "#by using histogram\n",
    "df.stroke.hist()"
   ]
  },
  {
   "cell_type": "code",
   "execution_count": null,
   "id": "50e04fd8",
   "metadata": {},
   "outputs": [],
   "source": [
    "#Moderately negatively Skewed i.e does not follow a normal distribution"
   ]
  },
  {
   "cell_type": "code",
   "execution_count": null,
   "id": "a5bc88c2",
   "metadata": {},
   "outputs": [],
   "source": [
    "df.hist('compression-ratio')"
   ]
  },
  {
   "cell_type": "code",
   "execution_count": null,
   "id": "080c4dc0",
   "metadata": {},
   "outputs": [],
   "source": [
    "#Highly positive Skewed i.e does not follow a normal distribution"
   ]
  },
  {
   "cell_type": "code",
   "execution_count": null,
   "id": "45e273a9",
   "metadata": {},
   "outputs": [],
   "source": [
    "df.hist('length')"
   ]
  },
  {
   "cell_type": "code",
   "execution_count": null,
   "id": "64943130",
   "metadata": {},
   "outputs": [],
   "source": [
    "#Symmetric i.e does follow a normal distribution"
   ]
  },
  {
   "cell_type": "code",
   "execution_count": null,
   "id": "9479700c",
   "metadata": {},
   "outputs": [],
   "source": [
    "import seaborn as sns\n",
    "sns.kdeplot(df['compression-ratio']);"
   ]
  },
  {
   "cell_type": "code",
   "execution_count": null,
   "id": "574f900a",
   "metadata": {},
   "outputs": [],
   "source": [
    "sns.kdeplot(df['price']);#highly positively skewed"
   ]
  },
  {
   "cell_type": "code",
   "execution_count": null,
   "id": "5c9ef436",
   "metadata": {},
   "outputs": [],
   "source": [
    "sns.kdeplot(df['gas']);#highly Negatively skewed\n"
   ]
  },
  {
   "cell_type": "markdown",
   "id": "bbb4f606",
   "metadata": {},
   "source": [
    "# distribution of variables using a Q-Q plot"
   ]
  },
  {
   "cell_type": "code",
   "execution_count": null,
   "id": "767f83fa",
   "metadata": {},
   "outputs": [],
   "source": [
    "import scipy.stats as stats\n",
    "import pylab"
   ]
  },
  {
   "cell_type": "code",
   "execution_count": null,
   "id": "69a37691",
   "metadata": {},
   "outputs": [],
   "source": [
    "stats.probplot(df.price,plot=pylab);#not normal distribution"
   ]
  },
  {
   "cell_type": "code",
   "execution_count": null,
   "id": "b7f1a2f5",
   "metadata": {},
   "outputs": [],
   "source": [
    "stats.probplot(df.length,plot=pylab);#normal distribution"
   ]
  },
  {
   "cell_type": "code",
   "execution_count": null,
   "id": "8fd68383",
   "metadata": {},
   "outputs": [],
   "source": [
    "# Performing the transformations on the Price variable."
   ]
  },
  {
   "cell_type": "code",
   "execution_count": null,
   "id": "ddd789b8",
   "metadata": {},
   "outputs": [],
   "source": [
    "df['price_log']=np.log(df['price'])"
   ]
  },
  {
   "cell_type": "code",
   "execution_count": null,
   "id": "f55cf4fb",
   "metadata": {},
   "outputs": [],
   "source": [
    "df['price_log']"
   ]
  },
  {
   "cell_type": "code",
   "execution_count": null,
   "id": "b477a7b2",
   "metadata": {},
   "outputs": [],
   "source": [
    "stats.probplot(df['price_log'],plot=pylab)"
   ]
  },
  {
   "cell_type": "code",
   "execution_count": null,
   "id": "2667c3b7",
   "metadata": {},
   "outputs": [],
   "source": [
    "df['price_reciprocal']=1/df.price"
   ]
  },
  {
   "cell_type": "code",
   "execution_count": null,
   "id": "8d25349a",
   "metadata": {},
   "outputs": [],
   "source": [
    "stats.probplot(df['price_reciprocal'],plot=pylab)"
   ]
  },
  {
   "cell_type": "code",
   "execution_count": null,
   "id": "f0956952",
   "metadata": {},
   "outputs": [],
   "source": [
    "stats.probplot(df['price_reciprocal'],)"
   ]
  },
  {
   "cell_type": "code",
   "execution_count": null,
   "id": "a6efbbdd",
   "metadata": {},
   "outputs": [],
   "source": []
  }
 ],
 "metadata": {
  "kernelspec": {
   "display_name": "Python 3 (ipykernel)",
   "language": "python",
   "name": "python3"
  },
  "language_info": {
   "codemirror_mode": {
    "name": "ipython",
    "version": 3
   },
   "file_extension": ".py",
   "mimetype": "text/x-python",
   "name": "python",
   "nbconvert_exporter": "python",
   "pygments_lexer": "ipython3",
   "version": "3.11.7"
  }
 },
 "nbformat": 4,
 "nbformat_minor": 5
}
