{
 "cells": [
  {
   "cell_type": "code",
   "execution_count": 1,
   "id": "3609741e",
   "metadata": {},
   "outputs": [
    {
     "name": "stdout",
     "output_type": "stream",
     "text": [
      "This is word wise tokenization-: \n",
      " ['CSI-DYPIEMR', 'is', 'the', 'Student', 'Chapter', 'of', 'Computer', 'Society', 'of', 'India', 'in', 'Dr.D', '.', 'Y.', 'Patil', 'Pratishthan', \"'s\", 'Dr.', 'D.', 'Y.', 'Patil', 'Institute', 'of', 'Engineering', ',', 'Management', ',', 'and', 'Research', '.', 'Computer', 'Society', 'of', 'India', 'is', 'a', 'body', 'of', 'computer', 'professionals', 'in', 'India', '.', 'It', 'was', 'started', 'on', '6', 'March', '1965', 'by', 'a', 'few', 'computer', 'professionals', 'and', 'has', 'now', 'grown', 'to', 'be', 'the', 'national', 'body', 'representing', 'computer', 'professionals', '.', 'It', 'has', '72', 'chapters', 'across', 'India', ',', '511', 'student', 'branches', ',', 'and', '100,000', 'members', '.'] \n",
      "\n",
      "-----------------------------------------------------------------------------'\n",
      "'\n",
      "This is sentence wise tokenization-: \n",
      " ['CSI-DYPIEMR is the Student Chapter of Computer Society of India in Dr.D.', \"Y. Patil Pratishthan's Dr. D. Y. Patil Institute of Engineering,Management, and Research.\", 'Computer Society of India is a body of computer professionals in India.', 'It was started on 6 March 1965 by a few computer professionals and has now grown to be the national body representing computer professionals.', 'It has 72 chapters across India, 511 student branches, and 100,000 members.']\n"
     ]
    }
   ],
   "source": [
    "import nltk\n",
    "from nltk.tokenize import word_tokenize,sent_tokenize\n",
    "block = \"CSI-DYPIEMR is the Student Chapter of Computer Society of India in Dr.D. Y. Patil Pratishthan's Dr. D. Y. Patil Institute of Engineering,Management, and Research. Computer Society of India is a body of computer professionals in India. It was started on 6 March 1965 by a few computer professionals and has now grown to be the national body representing computer professionals. It has 72 chapters across India, 511 student branches, and 100,000 members.\"\n",
    "print(\"This is word wise tokenization-:\",'\\n', nltk.word_tokenize(block), '\\n')\n",
    "print(\"-----------------------------------------------------------------------------'\\n'\")\n",
    "print(\"This is sentence wise tokenization-:\",'\\n', nltk.sent_tokenize(block))\n"
   ]
  },
  {
   "cell_type": "code",
   "execution_count": 3,
   "id": "738e62cb",
   "metadata": {},
   "outputs": [
    {
     "name": "stdout",
     "output_type": "stream",
     "text": [
      "['i', 'me', 'my', 'myself', 'we', 'our', 'ours', 'ourselves', 'you', \"you're\", \"you've\", \"you'll\", \"you'd\", 'your', 'yours', 'yourself', 'yourselves', 'he', 'him', 'his', 'himself', 'she', \"she's\", 'her', 'hers', 'herself', 'it', \"it's\", 'its', 'itself', 'they', 'them', 'their', 'theirs', 'themselves', 'what', 'which', 'who', 'whom', 'this', 'that', \"that'll\", 'these', 'those', 'am', 'is', 'are', 'was', 'were', 'be', 'been', 'being', 'have', 'has', 'had', 'having', 'do', 'does', 'did', 'doing', 'a', 'an', 'the', 'and', 'but', 'if', 'or', 'because', 'as', 'until', 'while', 'of', 'at', 'by', 'for', 'with', 'about', 'against', 'between', 'into', 'through', 'during', 'before', 'after', 'above', 'below', 'to', 'from', 'up', 'down', 'in', 'out', 'on', 'off', 'over', 'under', 'again', 'further', 'then', 'once', 'here', 'there', 'when', 'where', 'why', 'how', 'all', 'any', 'both', 'each', 'few', 'more', 'most', 'other', 'some', 'such', 'no', 'nor', 'not', 'only', 'own', 'same', 'so', 'than', 'too', 'very', 's', 't', 'can', 'will', 'just', 'don', \"don't\", 'should', \"should've\", 'now', 'd', 'll', 'm', 'o', 're', 've', 'y', 'ain', 'aren', \"aren't\", 'couldn', \"couldn't\", 'didn', \"didn't\", 'doesn', \"doesn't\", 'hadn', \"hadn't\", 'hasn', \"hasn't\", 'haven', \"haven't\", 'isn', \"isn't\", 'ma', 'mightn', \"mightn't\", 'mustn', \"mustn't\", 'needn', \"needn't\", 'shan', \"shan't\", 'shouldn', \"shouldn't\", 'wasn', \"wasn't\", 'weren', \"weren't\", 'won', \"won't\", 'wouldn', \"wouldn't\"]\n",
      "This is the unclean version-: \n",
      " ['CSI-DYPIEMR', 'is', 'the', 'Student', 'Chapter', 'of', 'Computer', 'Society', 'of', 'India', 'in', 'Dr.D', '.', 'Y.', 'Patil', 'Pratishthan', \"'s\", 'Dr.', 'D.', 'Y.', 'Patil', 'Institute', 'of', 'Engineering', ',', 'Management', ',', 'and', 'Research', '.', 'Computer', 'Society', 'of', 'India', 'is', 'a', 'body', 'of', 'computer', 'professionals', 'in', 'India', '.', 'It', 'was', 'started', 'on', '6', 'March', '1965', 'by', 'a', 'few', 'computer', 'professionals', 'and', 'has', 'now', 'grown', 'to', 'be', 'the', 'national', 'body', 'representing', 'computer', 'professionals', '.', 'It', 'has', '72', 'chapters', 'across', 'India', ',', '511', 'student', 'branches', ',', 'and', '100,000', 'members', '.'] \n",
      "\n",
      "----------------------------------------------------------------------'\n",
      "'\n",
      "This is the cleaned version-: \n",
      " ['CSI-DYPIEMR', 'Student', 'Chapter', 'Computer', 'Society', 'India', 'Dr.D', '.', 'Y.', 'Patil', 'Pratishthan', \"'s\", 'Dr.', 'D.', 'Y.', 'Patil', 'Institute', 'Engineering', ',', 'Management', ',', 'Research', '.', 'Computer', 'Society', 'India', 'body', 'computer', 'professionals', 'India', '.', 'It', 'started', '6', 'March', '1965', 'computer', 'professionals', 'grown', 'national', 'body', 'representing', 'computer', 'professionals', '.', 'It', '72', 'chapters', 'across', 'India', ',', '511', 'student', 'branches', ',', '100,000', 'members', '.']\n"
     ]
    },
    {
     "name": "stderr",
     "output_type": "stream",
     "text": [
      "[nltk_data] Downloading package stopwords to\n",
      "[nltk_data]     C:\\Users\\Asus\\AppData\\Roaming\\nltk_data...\n",
      "[nltk_data]   Package stopwords is already up-to-date!\n"
     ]
    }
   ],
   "source": [
    "from nltk.corpus import stopwords\n",
    "nltk.download('stopwords')\n",
    "stop_words = stopwords.words('english')\n",
    "print(stop_words)\n",
    "token = nltk.word_tokenize(block)\n",
    "cleaned_token = []\n",
    "for word in token:\n",
    "    if word not in stop_words:\n",
    "        cleaned_token.append(word)\n",
    "print(\"This is the unclean version-:\",'\\n', token, '\\n')\n",
    "print(\"----------------------------------------------------------------------'\\n'\")\n",
    "print(\"This is the cleaned version-:\",'\\n', cleaned_token)"
   ]
  },
  {
   "cell_type": "code",
   "execution_count": 4,
   "id": "fb267c78",
   "metadata": {},
   "outputs": [
    {
     "name": "stdout",
     "output_type": "stream",
     "text": [
      "['rain', 'rain', 'rain', 'rain']\n"
     ]
    }
   ],
   "source": [
    "from nltk.stem import PorterStemmer\n",
    "stemmer = nltk.PorterStemmer()\n",
    "words = ['rain', 'rained', 'raining', 'rains']\n",
    "stemmed = [stemmer.stem(word) for word in words]\n",
    "print(stemmed)\n"
   ]
  },
  {
   "cell_type": "code",
   "execution_count": 5,
   "id": "8ca788f5",
   "metadata": {
    "scrolled": true
   },
   "outputs": [
    {
     "name": "stderr",
     "output_type": "stream",
     "text": [
      "[nltk_data] Downloading package wordnet to\n",
      "[nltk_data]     C:\\Users\\Asus\\AppData\\Roaming\\nltk_data...\n",
      "[nltk_data]   Package wordnet is already up-to-date!\n",
      "[nltk_data] Downloading package omw-1.4 to\n",
      "[nltk_data]     C:\\Users\\Asus\\AppData\\Roaming\\nltk_data...\n",
      "[nltk_data]   Package omw-1.4 is already up-to-date!\n"
     ]
    },
    {
     "name": "stdout",
     "output_type": "stream",
     "text": [
      "['CSI-DYPIEMR', 'Student', 'Chapter', 'Computer', 'Society', 'India', 'Dr.D', '.', 'Y.', 'Patil', 'Pratishthan', \"'s\", 'Dr.', 'D.', 'Y.', 'Patil', 'Institute', 'Engineering', ',', 'Management', ',', 'Research', '.', 'Computer', 'Society', 'India', 'body', 'computer', 'professional', 'India', '.', 'It', 'started', '6', 'March', '1965', 'computer', 'professional', 'grown', 'national', 'body', 'representing', 'computer', 'professional', '.', 'It', '72', 'chapter', 'across', 'India', ',', '511', 'student', 'branch', ',', '100,000', 'member', '.']\n"
     ]
    }
   ],
   "source": [
    "from nltk.stem import WordNetLemmatizer\n",
    "nltk.download('wordnet')#data dependencies\n",
    "nltk.download('omw-1.4')\n",
    "lemmatizer = nltk.WordNetLemmatizer()\n",
    "lemmatized = [lemmatizer.lemmatize(word) for word in cleaned_token]\n",
    "print(lemmatized)\n"
   ]
  },
  {
   "cell_type": "code",
   "execution_count": 6,
   "id": "4f1e2be5",
   "metadata": {},
   "outputs": [
    {
     "name": "stdout",
     "output_type": "stream",
     "text": [
      "[('CSI-DYPIEMR', 'JJ'), ('Student', 'NNP'), ('Chapter', 'NNP'), ('Computer', 'NNP'), ('Society', 'NNP'), ('India', 'NNP'), ('Dr.D', 'NNP'), ('.', '.'), ('Y.', 'NNP'), ('Patil', 'NNP'), ('Pratishthan', 'NNP'), (\"'s\", 'POS'), ('Dr.', 'NNP'), ('D.', 'NNP'), ('Y.', 'NNP'), ('Patil', 'NNP'), ('Institute', 'NNP'), ('Engineering', 'NNP'), (',', ','), ('Management', 'NNP'), (',', ','), ('Research', 'NNP'), ('.', '.'), ('Computer', 'NNP'), ('Society', 'NNP'), ('India', 'NNP'), ('body', 'NN'), ('computer', 'NN'), ('professionals', 'NNS'), ('India', 'NNP'), ('.', '.'), ('It', 'PRP'), ('started', 'VBD'), ('6', 'CD'), ('March', 'NNP'), ('1965', 'CD'), ('computer', 'NN'), ('professionals', 'NNS'), ('grown', 'VBP'), ('national', 'JJ'), ('body', 'NN'), ('representing', 'VBG'), ('computer', 'NN'), ('professionals', 'NNS'), ('.', '.'), ('It', 'PRP'), ('72', 'CD'), ('chapters', 'NNS'), ('across', 'IN'), ('India', 'NNP'), (',', ','), ('511', 'CD'), ('student', 'NN'), ('branches', 'NNS'), (',', ','), ('100,000', 'CD'), ('members', 'NNS'), ('.', '.')]\n"
     ]
    },
    {
     "name": "stderr",
     "output_type": "stream",
     "text": [
      "[nltk_data] Downloading package averaged_perceptron_tagger to\n",
      "[nltk_data]     C:\\Users\\Asus\\AppData\\Roaming\\nltk_data...\n",
      "[nltk_data]   Package averaged_perceptron_tagger is already up-to-\n",
      "[nltk_data]       date!\n"
     ]
    }
   ],
   "source": [
    "from nltk import pos_tag\n",
    "nltk.download('averaged_perceptron_tagger')\n",
    "tagged = nltk.pos_tag(cleaned_token)\n",
    "print(tagged)"
   ]
  },
  {
   "cell_type": "code",
   "execution_count": 7,
   "id": "93a1a506",
   "metadata": {},
   "outputs": [],
   "source": [
    "import pandas as pd\n",
    "import sklearn as sk\n",
    "import math\n"
   ]
  },
  {
   "cell_type": "code",
   "execution_count": 8,
   "id": "8d732f03",
   "metadata": {},
   "outputs": [
    {
     "name": "stdout",
     "output_type": "stream",
     "text": [
      "{'objective,the', 'technical', 'students,', 'professionals.', 'develop', 'Keeping', 'skill', 'promotion', 'time,', 'where', 'Technology', 'projects,and', 'society.', 'ensures', 'making', 'among', 'And', 'priority', 'other', 'organized', 'of', 'conferences,', 'mind', 'The', 'teach,guide', 'all', 'that', 'various', 'an', 'professionals', 'as', 'grow', 'interest', 'projects', 'same', 'with', 'Our', 'come', 'organizes', 'conventions,', 'computer', 'a', 'sections', 'this', 'in', 'at', 'enthusiasts,', 'amongst', 'CSI', 'and', 'the', 'future', 'To', 'it', 'area', 'from', 'IT', 'today.', 'choice', 'for', 'are', 'good', 'Information', 'profession', 'lectures,', 'towards', 'to', 'is', 'fulfill', 'aim', 'works', 'backgrounds', 'collaborate', 'work', 'top', 'culture', 'together.', 'awards.', 'regular', 'training', 'students', 'updating', 'each', 'regularly', 'together', 'also', 'on'}\n"
     ]
    }
   ],
   "source": [
    "block_1 = \"Our aim is to develop a good work culture among students, a culture where students from various technical backgrounds come together to teach,guide and collaborate with each other on various projects and grow together.\"\n",
    "block_2 = \"Keeping in mind the interest of the IT professionals and computer enthusiasts, CSI works towards making the profession an area of choice amongst all sections of the society. The promotion of Information Technology as a profession is the top priority of CSI today. To fulfill this objective,the CSI regularly organizes conferences, conventions, lectures, projects,and awards. And at the same time, it also ensures that regular training and skill updating are organized for the future IT professionals.\"\n",
    "#split so each word have their own string\n",
    "first_block = block_1.split(\" \")\n",
    "second_block = block_2.split(\" \")\n",
    "#join them to remove common duplicate words\n",
    "total= set(first_block).union(set(second_block))\n",
    "print(total)"
   ]
  },
  {
   "cell_type": "code",
   "execution_count": 9,
   "id": "490639fd",
   "metadata": {},
   "outputs": [],
   "source": [
    "wordDictA = dict.fromkeys(total, 0)\n",
    "wordDictB = dict.fromkeys(total, 0)\n",
    "for word in first_block:\n",
    "    wordDictA[word]+=1\n",
    "for word in second_block:\n",
    "    wordDictB[word]+=1\n"
   ]
  },
  {
   "cell_type": "code",
   "execution_count": 10,
   "id": "60d99840",
   "metadata": {},
   "outputs": [
    {
     "data": {
      "text/html": [
       "<div>\n",
       "<style scoped>\n",
       "    .dataframe tbody tr th:only-of-type {\n",
       "        vertical-align: middle;\n",
       "    }\n",
       "\n",
       "    .dataframe tbody tr th {\n",
       "        vertical-align: top;\n",
       "    }\n",
       "\n",
       "    .dataframe thead th {\n",
       "        text-align: right;\n",
       "    }\n",
       "</style>\n",
       "<table border=\"1\" class=\"dataframe\">\n",
       "  <thead>\n",
       "    <tr style=\"text-align: right;\">\n",
       "      <th></th>\n",
       "      <th>objective,the</th>\n",
       "      <th>technical</th>\n",
       "      <th>students,</th>\n",
       "      <th>professionals.</th>\n",
       "      <th>develop</th>\n",
       "      <th>Keeping</th>\n",
       "      <th>skill</th>\n",
       "      <th>promotion</th>\n",
       "      <th>time,</th>\n",
       "      <th>where</th>\n",
       "      <th>...</th>\n",
       "      <th>awards.</th>\n",
       "      <th>regular</th>\n",
       "      <th>training</th>\n",
       "      <th>students</th>\n",
       "      <th>updating</th>\n",
       "      <th>each</th>\n",
       "      <th>regularly</th>\n",
       "      <th>together</th>\n",
       "      <th>also</th>\n",
       "      <th>on</th>\n",
       "    </tr>\n",
       "  </thead>\n",
       "  <tbody>\n",
       "    <tr>\n",
       "      <th>0</th>\n",
       "      <td>0</td>\n",
       "      <td>1</td>\n",
       "      <td>1</td>\n",
       "      <td>0</td>\n",
       "      <td>1</td>\n",
       "      <td>0</td>\n",
       "      <td>0</td>\n",
       "      <td>0</td>\n",
       "      <td>0</td>\n",
       "      <td>1</td>\n",
       "      <td>...</td>\n",
       "      <td>0</td>\n",
       "      <td>0</td>\n",
       "      <td>0</td>\n",
       "      <td>1</td>\n",
       "      <td>0</td>\n",
       "      <td>1</td>\n",
       "      <td>0</td>\n",
       "      <td>1</td>\n",
       "      <td>0</td>\n",
       "      <td>1</td>\n",
       "    </tr>\n",
       "    <tr>\n",
       "      <th>1</th>\n",
       "      <td>1</td>\n",
       "      <td>0</td>\n",
       "      <td>0</td>\n",
       "      <td>1</td>\n",
       "      <td>0</td>\n",
       "      <td>1</td>\n",
       "      <td>1</td>\n",
       "      <td>1</td>\n",
       "      <td>1</td>\n",
       "      <td>0</td>\n",
       "      <td>...</td>\n",
       "      <td>1</td>\n",
       "      <td>1</td>\n",
       "      <td>1</td>\n",
       "      <td>0</td>\n",
       "      <td>1</td>\n",
       "      <td>0</td>\n",
       "      <td>1</td>\n",
       "      <td>0</td>\n",
       "      <td>1</td>\n",
       "      <td>0</td>\n",
       "    </tr>\n",
       "  </tbody>\n",
       "</table>\n",
       "<p>2 rows × 87 columns</p>\n",
       "</div>"
      ],
      "text/plain": [
       "   objective,the  technical  students,  professionals.  develop  Keeping  \\\n",
       "0              0          1          1               0        1        0   \n",
       "1              1          0          0               1        0        1   \n",
       "\n",
       "   skill  promotion  time,  where  ...  awards.  regular  training  students  \\\n",
       "0      0          0      0      1  ...        0        0         0         1   \n",
       "1      1          1      1      0  ...        1        1         1         0   \n",
       "\n",
       "   updating  each  regularly  together  also  on  \n",
       "0         0     1          0         1     0   1  \n",
       "1         1     0          1         0     1   0  \n",
       "\n",
       "[2 rows x 87 columns]"
      ]
     },
     "execution_count": 10,
     "metadata": {},
     "output_type": "execute_result"
    }
   ],
   "source": [
    " pd.DataFrame([wordDictA, wordDictB])"
   ]
  },
  {
   "cell_type": "code",
   "execution_count": 11,
   "id": "aac37436",
   "metadata": {},
   "outputs": [
    {
     "name": "stdout",
     "output_type": "stream",
     "text": [
      "['objective,the', 'technical', 'students,', 'professionals.', 'develop', 'Keeping', 'skill', 'promotion', 'time,', 'Technology', 'projects,and', 'society.', 'ensures', 'making', 'among', 'And', 'priority', 'organized', 'conferences,', 'mind', 'The', 'teach,guide', 'various', 'professionals', 'grow', 'interest', 'projects', 'Our', 'come', 'organizes', 'conventions,', 'computer', 'sections', 'enthusiasts,', 'amongst', 'CSI', 'future', 'To', 'area', 'IT', 'today.', 'choice', 'good', 'Information', 'profession', 'lectures,', 'towards', 'fulfill', 'aim', 'works', 'backgrounds', 'collaborate', 'work', 'top', 'culture', 'together.', 'awards.', 'regular', 'training', 'students', 'updating', 'regularly', 'together', 'also']\n"
     ]
    },
    {
     "name": "stderr",
     "output_type": "stream",
     "text": [
      "[nltk_data] Downloading package stopwords to\n",
      "[nltk_data]     C:\\Users\\Asus\\AppData\\Roaming\\nltk_data...\n",
      "[nltk_data]   Package stopwords is already up-to-date!\n"
     ]
    }
   ],
   "source": [
    "import nltk\n",
    "nltk.download('stopwords')\n",
    "from nltk.corpus import stopwords\n",
    "stop_words = set(stopwords.words('english'))\n",
    "filtered_sentence = [w for w in wordDictA if not w in stop_words]\n",
    "print(filtered_sentence)\n"
   ]
  },
  {
   "cell_type": "code",
   "execution_count": 12,
   "id": "36d1f6f1",
   "metadata": {},
   "outputs": [
    {
     "name": "stdout",
     "output_type": "stream",
     "text": [
      "   objective,the  technical  students,  professionals.   develop   Keeping  \\\n",
      "0       0.000000   0.029412   0.029412        0.000000  0.029412  0.000000   \n",
      "1       0.013158   0.000000   0.000000        0.013158  0.000000  0.013158   \n",
      "\n",
      "      skill  promotion     time,     where  ...   awards.   regular  training  \\\n",
      "0  0.000000   0.000000  0.000000  0.029412  ...  0.000000  0.000000  0.000000   \n",
      "1  0.013158   0.013158  0.013158  0.000000  ...  0.013158  0.013158  0.013158   \n",
      "\n",
      "   students  updating      each  regularly  together      also        on  \n",
      "0  0.029412  0.000000  0.029412   0.000000  0.029412  0.000000  0.029412  \n",
      "1  0.000000  0.013158  0.000000   0.013158  0.000000  0.013158  0.000000  \n",
      "\n",
      "[2 rows x 87 columns]\n"
     ]
    }
   ],
   "source": [
    "def computeTF(wordDict, doc):\n",
    "    tfDict = {}\n",
    "    corpusCount = len(doc)\n",
    "    for word, count in wordDict.items():tfDict[word] = count/float(corpusCount)\n",
    "    return(tfDict)\n",
    "#running our sentences through the tf function:\n",
    "tfFirst = computeTF(wordDictA, first_block)\n",
    "tfSecond = computeTF(wordDictB, second_block)\n",
    "tf = pd.DataFrame([tfFirst, tfSecond])\n",
    "print(tf)"
   ]
  },
  {
   "cell_type": "code",
   "execution_count": 13,
   "id": "d1ff03e3",
   "metadata": {},
   "outputs": [
    {
     "name": "stdout",
     "output_type": "stream",
     "text": [
      "   objective,the  technical  students,  professionals.  develop  Keeping  \\\n",
      "0              0          1          1               0        1        0   \n",
      "1              1          0          0               1        0        1   \n",
      "\n",
      "   skill  promotion  time,  where  ...  awards.  regular  training  students  \\\n",
      "0      0          0      0      1  ...        0        0         0         1   \n",
      "1      1          1      1      0  ...        1        1         1         0   \n",
      "\n",
      "   updating  each  regularly  together  also  on  \n",
      "0         0     1          0         1     0   1  \n",
      "1         1     0          1         0     1   0  \n",
      "\n",
      "[2 rows x 87 columns]\n"
     ]
    }
   ],
   "source": [
    "def computeIDF(docList):\n",
    "    idfDict = {}\n",
    "    N = len(docList)\n",
    "    idfDict = dict.fromkeys(docList[0].keys(), 0)\n",
    "    for word, val in idfDict.items(): idfDict[word] = math.log10(N /(float(val) + 1))\n",
    "    return(idfDict)\n",
    "\n",
    "idfs = computeIDF([wordDictA, wordDictB])\n",
    "idfs1 = pd.DataFrame([wordDictA, wordDictB])\n",
    "print(idfs1)"
   ]
  },
  {
   "cell_type": "code",
   "execution_count": 14,
   "id": "09d0d7db",
   "metadata": {},
   "outputs": [
    {
     "name": "stdout",
     "output_type": "stream",
     "text": [
      "   objective,the  technical  students,  professionals.   develop   Keeping  \\\n",
      "0       0.000000   0.008854   0.008854        0.000000  0.008854  0.000000   \n",
      "1       0.003961   0.000000   0.000000        0.003961  0.000000  0.003961   \n",
      "\n",
      "      skill  promotion     time,     where  ...   awards.   regular  training  \\\n",
      "0  0.000000   0.000000  0.000000  0.008854  ...  0.000000  0.000000  0.000000   \n",
      "1  0.003961   0.003961  0.003961  0.000000  ...  0.003961  0.003961  0.003961   \n",
      "\n",
      "   students  updating      each  regularly  together      also        on  \n",
      "0  0.008854  0.000000  0.008854   0.000000  0.008854  0.000000  0.008854  \n",
      "1  0.000000  0.003961  0.000000   0.003961  0.000000  0.003961  0.000000  \n",
      "\n",
      "[2 rows x 87 columns]\n"
     ]
    }
   ],
   "source": [
    "def computeTFIDF(tfBow, idfs):\n",
    "    tfidf = {}\n",
    "    for word, val in tfBow.items(): tfidf[word] = val*idfs[word]\n",
    "    return(tfidf)\n",
    "#running our two sentences through the IDF:\n",
    "idfFirst = computeTFIDF(tfFirst, idfs)\n",
    "idfSecond = computeTFIDF(tfSecond, idfs)\n",
    "#putting it in a dataframe\n",
    "idf= pd.DataFrame([idfFirst, idfSecond])\n",
    "print(idf)\n"
   ]
  },
  {
   "cell_type": "code",
   "execution_count": null,
   "id": "d1ab0956",
   "metadata": {},
   "outputs": [],
   "source": []
  },
  {
   "cell_type": "code",
   "execution_count": null,
   "id": "29d1cc74",
   "metadata": {},
   "outputs": [],
   "source": []
  },
  {
   "cell_type": "code",
   "execution_count": null,
   "id": "9e07984b",
   "metadata": {},
   "outputs": [],
   "source": []
  },
  {
   "cell_type": "code",
   "execution_count": null,
   "id": "f8cf0716",
   "metadata": {},
   "outputs": [],
   "source": []
  },
  {
   "cell_type": "code",
   "execution_count": null,
   "id": "4afd591f",
   "metadata": {},
   "outputs": [],
   "source": [
    "#The WordNet is a part of Python's Natural Language Toolkit. It is a large word database of English Nouns, Adjectives, Adverbs and Verbs. \n",
    "#"
   ]
  },
  {
   "cell_type": "code",
   "execution_count": 15,
   "id": "6e727cb1",
   "metadata": {},
   "outputs": [],
   "source": [
    "from sklearn.feature_extraction.text import TfidfVectorizer\n",
    "#Make sure all words are in lowercase\n",
    "version_1 = \"Developing a competitive culture where the students polish technical and professional attributes, gain experience and learn new skills while upgrading the already present skillset. For those fledglings who have a zeal to build a strong profile and are hunting for their Ikigai, CSI provides ample opportunities for those individuals too.\"\n",
    "version_2 = \"Personalized career guidance, Regular Logic and aptitude building activities, Industrial level project collaboration, Building a network with active collaborations across the globe, Periodic member exclusive conferences and seminars, Created a community for sharing skills and knowledge\"\n",
    "#calling the TfidfVectorizer\n",
    "vectorize= TfidfVectorizer()\n",
    "#fitting the model and passing our sentences right away:\n",
    "response= vectorize.fit_transform([version_1.lower(), version_2.lower()])           "
   ]
  },
  {
   "cell_type": "code",
   "execution_count": 16,
   "id": "5110fb14",
   "metadata": {},
   "outputs": [
    {
     "name": "stdout",
     "output_type": "stream",
     "text": [
      "  (0, 61)\t0.13915271943780658\n",
      "  (0, 31)\t0.13915271943780658\n",
      "  (0, 40)\t0.13915271943780658\n",
      "  (0, 4)\t0.13915271943780658\n",
      "  (0, 48)\t0.13915271943780658\n",
      "  (0, 18)\t0.13915271943780658\n",
      "  (0, 30)\t0.13915271943780658\n",
      "  (0, 58)\t0.13915271943780658\n",
      "  (0, 29)\t0.13915271943780658\n",
      "  (0, 7)\t0.13915271943780658\n",
      "  (0, 46)\t0.13915271943780658\n",
      "  (0, 54)\t0.13915271943780658\n",
      "  (0, 9)\t0.13915271943780658\n",
      "  (0, 60)\t0.13915271943780658\n",
      "  (0, 67)\t0.13915271943780658\n",
      "  (0, 28)\t0.13915271943780658\n",
      "  (0, 65)\t0.13915271943780658\n",
      "  (0, 23)\t0.13915271943780658\n",
      "  (0, 59)\t0.27830543887561315\n",
      "  (0, 24)\t0.2970249178760062\n",
      "  (0, 53)\t0.13915271943780658\n",
      "  (0, 44)\t0.13915271943780658\n",
      "  (0, 3)\t0.13915271943780658\n",
      "  (0, 62)\t0.13915271943780658\n",
      "  (0, 64)\t0.13915271943780658\n",
      "  :\t:\n",
      "  (1, 21)\t0.16649349332910351\n",
      "  (1, 37)\t0.16649349332910351\n",
      "  (1, 41)\t0.16649349332910351\n",
      "  (1, 26)\t0.16649349332910351\n",
      "  (1, 0)\t0.16649349332910351\n",
      "  (1, 13)\t0.16649349332910351\n",
      "  (1, 1)\t0.16649349332910351\n",
      "  (1, 66)\t0.16649349332910351\n",
      "  (1, 38)\t0.16649349332910351\n",
      "  (1, 12)\t0.16649349332910351\n",
      "  (1, 47)\t0.16649349332910351\n",
      "  (1, 35)\t0.16649349332910351\n",
      "  (1, 32)\t0.16649349332910351\n",
      "  (1, 2)\t0.16649349332910351\n",
      "  (1, 10)\t0.33298698665820703\n",
      "  (1, 6)\t0.16649349332910351\n",
      "  (1, 36)\t0.16649349332910351\n",
      "  (1, 49)\t0.16649349332910351\n",
      "  (1, 27)\t0.16649349332910351\n",
      "  (1, 11)\t0.16649349332910351\n",
      "  (1, 42)\t0.16649349332910351\n",
      "  (1, 24)\t0.11846149176425531\n",
      "  (1, 52)\t0.11846149176425531\n",
      "  (1, 5)\t0.35538447529276596\n",
      "  (1, 57)\t0.11846149176425531\n"
     ]
    }
   ],
   "source": [
    " print(response)"
   ]
  },
  {
   "cell_type": "code",
   "execution_count": null,
   "id": "12737e5e-f912-419f-bf2d-b0242ee0a013",
   "metadata": {},
   "outputs": [],
   "source": []
  }
 ],
 "metadata": {
  "kernelspec": {
   "display_name": "Python 3 (ipykernel)",
   "language": "python",
   "name": "python3"
  },
  "language_info": {
   "codemirror_mode": {
    "name": "ipython",
    "version": 3
   },
   "file_extension": ".py",
   "mimetype": "text/x-python",
   "name": "python",
   "nbconvert_exporter": "python",
   "pygments_lexer": "ipython3",
   "version": "3.11.7"
  }
 },
 "nbformat": 4,
 "nbformat_minor": 5
}
