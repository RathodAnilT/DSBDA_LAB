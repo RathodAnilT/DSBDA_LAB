{
 "cells": [
  {
   "cell_type": "code",
   "execution_count": 9,
   "id": "48882fa9-305e-4524-8936-bf4985b84a87",
   "metadata": {},
   "outputs": [
    {
     "name": "stdout",
     "output_type": "stream",
     "text": [
      "Requirement already satisfied: pandas in c:\\users\\anil rathod\\appdata\\local\\programs\\python\\python312\\lib\\site-packages (2.2.0)\n",
      "Requirement already satisfied: numpy<2,>=1.26.0 in c:\\users\\anil rathod\\appdata\\local\\programs\\python\\python312\\lib\\site-packages (from pandas) (1.26.3)\n",
      "Requirement already satisfied: python-dateutil>=2.8.2 in c:\\users\\anil rathod\\appdata\\local\\programs\\python\\python312\\lib\\site-packages (from pandas) (2.8.2)\n",
      "Requirement already satisfied: pytz>=2020.1 in c:\\users\\anil rathod\\appdata\\local\\programs\\python\\python312\\lib\\site-packages (from pandas) (2024.1)\n",
      "Requirement already satisfied: tzdata>=2022.7 in c:\\users\\anil rathod\\appdata\\local\\programs\\python\\python312\\lib\\site-packages (from pandas) (2023.4)\n",
      "Requirement already satisfied: six>=1.5 in c:\\users\\anil rathod\\appdata\\local\\programs\\python\\python312\\lib\\site-packages (from python-dateutil>=2.8.2->pandas) (1.16.0)\n",
      "Note: you may need to restart the kernel to use updated packages.\n"
     ]
    }
   ],
   "source": [
    "%pip  install pandas"
   ]
  },
  {
   "cell_type": "code",
   "execution_count": 10,
   "id": "5c5db4ce-d91a-4e18-b859-f2c504cf41f6",
   "metadata": {},
   "outputs": [],
   "source": [
    "import pandas as pd\n",
    "import warnings\n",
    "df = pd.read_csv(r\"C:\\Users\\Anil Rathod\\Desktop\\DSBDA\\DSBDAL\\EXP3\\adult - adult.csv\")"
   ]
  },
  {
   "cell_type": "code",
   "execution_count": 11,
   "id": "caa97bf2-2b4e-45f3-bca0-e3b8dbb25162",
   "metadata": {},
   "outputs": [
    {
     "name": "stdout",
     "output_type": "stream",
     "text": [
      "       age     workclass  fnlwgt     education  educational-num  \\\n",
      "0       25       Private  226802          11th                7   \n",
      "1       38       Private   89814       HS-grad                9   \n",
      "2       28     Local-gov  336951    Assoc-acdm               12   \n",
      "3       44       Private  160323  Some-college               10   \n",
      "4       18             ?  103497  Some-college               10   \n",
      "...    ...           ...     ...           ...              ...   \n",
      "48837   27       Private  257302    Assoc-acdm               12   \n",
      "48838   40       Private  154374       HS-grad                9   \n",
      "48839   58       Private  151910       HS-grad                9   \n",
      "48840   22       Private  201490       HS-grad                9   \n",
      "48841   52  Self-emp-inc  287927       HS-grad                9   \n",
      "\n",
      "           marital-status         occupation relationship   race  gender  \\\n",
      "0           Never-married  Machine-op-inspct    Own-child  Black    Male   \n",
      "1      Married-civ-spouse    Farming-fishing      Husband  White    Male   \n",
      "2      Married-civ-spouse    Protective-serv      Husband  White    Male   \n",
      "3      Married-civ-spouse  Machine-op-inspct      Husband  Black    Male   \n",
      "4           Never-married                  ?    Own-child  White  Female   \n",
      "...                   ...                ...          ...    ...     ...   \n",
      "48837  Married-civ-spouse       Tech-support         Wife  White  Female   \n",
      "48838  Married-civ-spouse  Machine-op-inspct      Husband  White    Male   \n",
      "48839             Widowed       Adm-clerical    Unmarried  White  Female   \n",
      "48840       Never-married       Adm-clerical    Own-child  White    Male   \n",
      "48841  Married-civ-spouse    Exec-managerial         Wife  White  Female   \n",
      "\n",
      "       capital-gain  capital-loss  hours-per-week native-country income  \n",
      "0                 0             0              40  United-States  <=50K  \n",
      "1                 0             0              50  United-States  <=50K  \n",
      "2                 0             0              40  United-States   >50K  \n",
      "3              7688             0              40  United-States   >50K  \n",
      "4                 0             0              30  United-States  <=50K  \n",
      "...             ...           ...             ...            ...    ...  \n",
      "48837             0             0              38  United-States  <=50K  \n",
      "48838             0             0              40  United-States   >50K  \n",
      "48839             0             0              40  United-States  <=50K  \n",
      "48840             0             0              20  United-States  <=50K  \n",
      "48841         15024             0              40  United-States   >50K  \n",
      "\n",
      "[48842 rows x 15 columns]\n"
     ]
    }
   ],
   "source": [
    "print(df)"
   ]
  },
  {
   "cell_type": "code",
   "execution_count": 12,
   "id": "0ec02344-72e6-46e3-b8b9-f33a4ee07972",
   "metadata": {},
   "outputs": [
    {
     "data": {
      "text/html": [
       "<div>\n",
       "<style scoped>\n",
       "    .dataframe tbody tr th:only-of-type {\n",
       "        vertical-align: middle;\n",
       "    }\n",
       "\n",
       "    .dataframe tbody tr th {\n",
       "        vertical-align: top;\n",
       "    }\n",
       "\n",
       "    .dataframe thead th {\n",
       "        text-align: right;\n",
       "    }\n",
       "</style>\n",
       "<table border=\"1\" class=\"dataframe\">\n",
       "  <thead>\n",
       "    <tr style=\"text-align: right;\">\n",
       "      <th></th>\n",
       "      <th>count</th>\n",
       "      <th>mean</th>\n",
       "      <th>std</th>\n",
       "      <th>min</th>\n",
       "      <th>25%</th>\n",
       "      <th>50%</th>\n",
       "      <th>75%</th>\n",
       "      <th>max</th>\n",
       "    </tr>\n",
       "    <tr>\n",
       "      <th>gender</th>\n",
       "      <th></th>\n",
       "      <th></th>\n",
       "      <th></th>\n",
       "      <th></th>\n",
       "      <th></th>\n",
       "      <th></th>\n",
       "      <th></th>\n",
       "      <th></th>\n",
       "    </tr>\n",
       "  </thead>\n",
       "  <tbody>\n",
       "    <tr>\n",
       "      <th>Female</th>\n",
       "      <td>16192.0</td>\n",
       "      <td>36.927989</td>\n",
       "      <td>14.137423</td>\n",
       "      <td>17.0</td>\n",
       "      <td>25.0</td>\n",
       "      <td>35.0</td>\n",
       "      <td>46.0</td>\n",
       "      <td>90.0</td>\n",
       "    </tr>\n",
       "    <tr>\n",
       "      <th>Male</th>\n",
       "      <td>32650.0</td>\n",
       "      <td>39.494395</td>\n",
       "      <td>13.412850</td>\n",
       "      <td>17.0</td>\n",
       "      <td>29.0</td>\n",
       "      <td>38.0</td>\n",
       "      <td>48.0</td>\n",
       "      <td>90.0</td>\n",
       "    </tr>\n",
       "  </tbody>\n",
       "</table>\n",
       "</div>"
      ],
      "text/plain": [
       "          count       mean        std   min   25%   50%   75%   max\n",
       "gender                                                             \n",
       "Female  16192.0  36.927989  14.137423  17.0  25.0  35.0  46.0  90.0\n",
       "Male    32650.0  39.494395  13.412850  17.0  29.0  38.0  48.0  90.0"
      ]
     },
     "execution_count": 12,
     "metadata": {},
     "output_type": "execute_result"
    }
   ],
   "source": [
    "df.groupby(\"gender\")[\"age\"].describe()"
   ]
  },
  {
   "cell_type": "code",
   "execution_count": 13,
   "id": "3449b451-7ed0-48d7-bab2-7acb7973d0c4",
   "metadata": {},
   "outputs": [
    {
     "data": {
      "text/html": [
       "<div>\n",
       "<style scoped>\n",
       "    .dataframe tbody tr th:only-of-type {\n",
       "        vertical-align: middle;\n",
       "    }\n",
       "\n",
       "    .dataframe tbody tr th {\n",
       "        vertical-align: top;\n",
       "    }\n",
       "\n",
       "    .dataframe thead th {\n",
       "        text-align: right;\n",
       "    }\n",
       "</style>\n",
       "<table border=\"1\" class=\"dataframe\">\n",
       "  <thead>\n",
       "    <tr style=\"text-align: right;\">\n",
       "      <th></th>\n",
       "      <th>age</th>\n",
       "      <th>workclass</th>\n",
       "      <th>fnlwgt</th>\n",
       "      <th>education</th>\n",
       "      <th>educational-num</th>\n",
       "      <th>marital-status</th>\n",
       "      <th>occupation</th>\n",
       "      <th>relationship</th>\n",
       "      <th>race</th>\n",
       "      <th>gender</th>\n",
       "      <th>capital-gain</th>\n",
       "      <th>capital-loss</th>\n",
       "      <th>hours-per-week</th>\n",
       "      <th>native-country</th>\n",
       "      <th>income</th>\n",
       "    </tr>\n",
       "  </thead>\n",
       "  <tbody>\n",
       "    <tr>\n",
       "      <th>sum</th>\n",
       "      <td>1887430</td>\n",
       "      <td>PrivatePrivateLocal-govPrivate?Private?Self-em...</td>\n",
       "      <td>9263575662</td>\n",
       "      <td>11thHS-gradAssoc-acdmSome-collegeSome-college1...</td>\n",
       "      <td>492234</td>\n",
       "      <td>Never-marriedMarried-civ-spouseMarried-civ-spo...</td>\n",
       "      <td>Machine-op-inspctFarming-fishingProtective-ser...</td>\n",
       "      <td>Own-childHusbandHusbandHusbandOwn-childNot-in-...</td>\n",
       "      <td>BlackWhiteWhiteBlackWhiteWhiteBlackWhiteWhiteW...</td>\n",
       "      <td>MaleMaleMaleMaleFemaleMaleMaleMaleFemaleMaleMa...</td>\n",
       "      <td>52703821</td>\n",
       "      <td>4273788</td>\n",
       "      <td>1974310</td>\n",
       "      <td>United-StatesUnited-StatesUnited-StatesUnited-...</td>\n",
       "      <td>&lt;=50K&lt;=50K&gt;50K&gt;50K&lt;=50K&lt;=50K&lt;=50K&gt;50K&lt;=50K&lt;=50...</td>\n",
       "    </tr>\n",
       "    <tr>\n",
       "      <th>min</th>\n",
       "      <td>17</td>\n",
       "      <td>?</td>\n",
       "      <td>12285</td>\n",
       "      <td>10th</td>\n",
       "      <td>1</td>\n",
       "      <td>Divorced</td>\n",
       "      <td>?</td>\n",
       "      <td>Husband</td>\n",
       "      <td>Amer-Indian-Eskimo</td>\n",
       "      <td>Female</td>\n",
       "      <td>0</td>\n",
       "      <td>0</td>\n",
       "      <td>1</td>\n",
       "      <td>?</td>\n",
       "      <td>&lt;=50K</td>\n",
       "    </tr>\n",
       "    <tr>\n",
       "      <th>max</th>\n",
       "      <td>90</td>\n",
       "      <td>Without-pay</td>\n",
       "      <td>1490400</td>\n",
       "      <td>Some-college</td>\n",
       "      <td>16</td>\n",
       "      <td>Widowed</td>\n",
       "      <td>Transport-moving</td>\n",
       "      <td>Wife</td>\n",
       "      <td>White</td>\n",
       "      <td>Male</td>\n",
       "      <td>99999</td>\n",
       "      <td>4356</td>\n",
       "      <td>99</td>\n",
       "      <td>Yugoslavia</td>\n",
       "      <td>&gt;50K</td>\n",
       "    </tr>\n",
       "  </tbody>\n",
       "</table>\n",
       "</div>"
      ],
      "text/plain": [
       "         age                                          workclass      fnlwgt  \\\n",
       "sum  1887430  PrivatePrivateLocal-govPrivate?Private?Self-em...  9263575662   \n",
       "min       17                                                  ?       12285   \n",
       "max       90                                        Without-pay     1490400   \n",
       "\n",
       "                                             education  educational-num  \\\n",
       "sum  11thHS-gradAssoc-acdmSome-collegeSome-college1...           492234   \n",
       "min                                               10th                1   \n",
       "max                                       Some-college               16   \n",
       "\n",
       "                                        marital-status  \\\n",
       "sum  Never-marriedMarried-civ-spouseMarried-civ-spo...   \n",
       "min                                           Divorced   \n",
       "max                                            Widowed   \n",
       "\n",
       "                                            occupation  \\\n",
       "sum  Machine-op-inspctFarming-fishingProtective-ser...   \n",
       "min                                                  ?   \n",
       "max                                   Transport-moving   \n",
       "\n",
       "                                          relationship  \\\n",
       "sum  Own-childHusbandHusbandHusbandOwn-childNot-in-...   \n",
       "min                                            Husband   \n",
       "max                                               Wife   \n",
       "\n",
       "                                                  race  \\\n",
       "sum  BlackWhiteWhiteBlackWhiteWhiteBlackWhiteWhiteW...   \n",
       "min                                 Amer-Indian-Eskimo   \n",
       "max                                              White   \n",
       "\n",
       "                                                gender  capital-gain  \\\n",
       "sum  MaleMaleMaleMaleFemaleMaleMaleMaleFemaleMaleMa...      52703821   \n",
       "min                                             Female             0   \n",
       "max                                               Male         99999   \n",
       "\n",
       "     capital-loss  hours-per-week  \\\n",
       "sum       4273788         1974310   \n",
       "min             0               1   \n",
       "max          4356              99   \n",
       "\n",
       "                                        native-country  \\\n",
       "sum  United-StatesUnited-StatesUnited-StatesUnited-...   \n",
       "min                                                  ?   \n",
       "max                                         Yugoslavia   \n",
       "\n",
       "                                                income  \n",
       "sum  <=50K<=50K>50K>50K<=50K<=50K<=50K>50K<=50K<=50...  \n",
       "min                                              <=50K  \n",
       "max                                               >50K  "
      ]
     },
     "execution_count": 13,
     "metadata": {},
     "output_type": "execute_result"
    }
   ],
   "source": [
    "df.agg(['sum', 'min','max'])"
   ]
  },
  {
   "cell_type": "code",
   "execution_count": 14,
   "id": "4d7e1f29-5793-4f62-8bf1-05da2107d558",
   "metadata": {},
   "outputs": [
    {
     "data": {
      "text/plain": [
       "marital-status\n",
       "Divorced                 43.159204\n",
       "Married-AF-spouse        31.945946\n",
       "Married-civ-spouse       43.353724\n",
       "Married-spouse-absent    40.613057\n",
       "Never-married            28.128064\n",
       "Separated                39.725490\n",
       "Widowed                  59.377470\n",
       "Name: age, dtype: float64"
      ]
     },
     "execution_count": 14,
     "metadata": {},
     "output_type": "execute_result"
    }
   ],
   "source": [
    "df.groupby(\"marital-status\")[\"age\"].mean()"
   ]
  },
  {
   "cell_type": "code",
   "execution_count": 15,
   "id": "c3786565-c4dd-4892-a374-5b3e424eeefc",
   "metadata": {},
   "outputs": [
    {
     "data": {
      "text/plain": [
       "marital-status\n",
       "Divorced                 42.0\n",
       "Married-AF-spouse        30.0\n",
       "Married-civ-spouse       42.0\n",
       "Married-spouse-absent    40.0\n",
       "Never-married            25.0\n",
       "Separated                39.0\n",
       "Widowed                  60.0\n",
       "Name: age, dtype: float64"
      ]
     },
     "execution_count": 15,
     "metadata": {},
     "output_type": "execute_result"
    }
   ],
   "source": [
    "df.groupby(\"marital-status\")[\"age\"].median()"
   ]
  },
  {
   "cell_type": "code",
   "execution_count": 16,
   "id": "ad7f3d8c-6b10-41ac-a9f8-9be4d4c3119a",
   "metadata": {},
   "outputs": [
    {
     "data": {
      "text/plain": [
       "gender  marital-status       \n",
       "Female  Divorced                 10.794868\n",
       "        Married-AF-spouse        12.342744\n",
       "        Married-civ-spouse       11.402805\n",
       "        Married-spouse-absent    13.019854\n",
       "        Never-married            10.231671\n",
       "        Separated                10.757639\n",
       "        Widowed                  11.657268\n",
       "Male    Divorced                 10.161659\n",
       "        Married-AF-spouse         6.336522\n",
       "        Married-civ-spouse       12.080786\n",
       "        Married-spouse-absent    12.631023\n",
       "        Never-married             9.717602\n",
       "        Separated                10.811704\n",
       "        Widowed                  14.216489\n",
       "Name: age, dtype: float64"
      ]
     },
     "execution_count": 16,
     "metadata": {},
     "output_type": "execute_result"
    }
   ],
   "source": [
    "df.groupby([\"gender\",\"marital-status\"])[\"age\"].std()"
   ]
  },
  {
   "cell_type": "code",
   "execution_count": 17,
   "id": "36ec7483-6e2b-45e7-a941-ffc750e6a5ed",
   "metadata": {},
   "outputs": [
    {
     "data": {
      "text/plain": [
       "income\n",
       "<=50K    36.872184\n",
       ">50K     44.275178\n",
       "Name: age, dtype: float64"
      ]
     },
     "execution_count": 17,
     "metadata": {},
     "output_type": "execute_result"
    }
   ],
   "source": [
    "df.groupby(\"income\")[\"age\"].mean()"
   ]
  },
  {
   "cell_type": "code",
   "execution_count": 18,
   "id": "37e098ab-dc3b-42be-8250-2c4bbbd191d0",
   "metadata": {},
   "outputs": [
    {
     "data": {
      "text/plain": [
       "income  gender\n",
       "<=50K   Female    36.278999\n",
       "        Male      37.248548\n",
       ">50K    Female    42.219333\n",
       "        Male      44.641863\n",
       "Name: age, dtype: float64"
      ]
     },
     "execution_count": 18,
     "metadata": {},
     "output_type": "execute_result"
    }
   ],
   "source": [
    "df.groupby([\"income\",\"gender\"])[\"age\"].mean()"
   ]
  },
  {
   "cell_type": "code",
   "execution_count": 19,
   "id": "2437b4ee-4f4a-4792-a781-cdb67fbc0eb0",
   "metadata": {},
   "outputs": [
    {
     "data": {
      "text/plain": [
       "marital-status\n",
       "Divorced                  6633\n",
       "Married-AF-spouse           37\n",
       "Married-civ-spouse       22379\n",
       "Married-spouse-absent      628\n",
       "Never-married            16117\n",
       "Separated                 1530\n",
       "Widowed                   1518\n",
       "Name: marital-status, dtype: int64"
      ]
     },
     "execution_count": 19,
     "metadata": {},
     "output_type": "execute_result"
    }
   ],
   "source": [
    "df.groupby(\"marital-status\")[\"marital-status\"].count()"
   ]
  },
  {
   "cell_type": "code",
   "execution_count": 20,
   "id": "d647ef85-1fc7-4546-8dcf-ef9d2f1701d5",
   "metadata": {},
   "outputs": [
    {
     "data": {
      "text/plain": [
       "marital-status\n",
       "Married-civ-spouse       22379\n",
       "Never-married            16117\n",
       "Divorced                  6633\n",
       "Separated                 1530\n",
       "Widowed                   1518\n",
       "Married-spouse-absent      628\n",
       "Married-AF-spouse           37\n",
       "Name: count, dtype: int64"
      ]
     },
     "execution_count": 20,
     "metadata": {},
     "output_type": "execute_result"
    }
   ],
   "source": [
    "#Count number of records by category\n",
    "#The value_counts() method counts the number of records for each category in a column.\n",
    "df[\"marital-status\"].value_counts()"
   ]
  },
  {
   "cell_type": "code",
   "execution_count": 21,
   "id": "0d79d854-a1f3-4304-9e88-16cbe39e8b31",
   "metadata": {},
   "outputs": [
    {
     "data": {
      "text/plain": [
       "48842"
      ]
     },
     "execution_count": 21,
     "metadata": {},
     "output_type": "execute_result"
    }
   ],
   "source": [
    "df[\"marital-status\"].count()"
   ]
  }
 ],
 "metadata": {
  "kernelspec": {
   "display_name": "Python 3 (ipykernel)",
   "language": "python",
   "name": "python3"
  },
  "language_info": {
   "codemirror_mode": {
    "name": "ipython",
    "version": 3
   },
   "file_extension": ".py",
   "mimetype": "text/x-python",
   "name": "python",
   "nbconvert_exporter": "python",
   "pygments_lexer": "ipython3",
   "version": "3.12.1"
  }
 },
 "nbformat": 4,
 "nbformat_minor": 5
}
