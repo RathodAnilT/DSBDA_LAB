{
 "cells": [
  {
   "cell_type": "code",
   "execution_count": 6,
   "id": "d427725c",
   "metadata": {},
   "outputs": [],
   "source": [
    "import pandas as pd\n",
    "df=pd.read_csv(\"C:/Users/Admin/Desktop/DYPIEMR data/DSBDA lab/wrangled_data.csv\")"
   ]
  },
  {
   "cell_type": "code",
   "execution_count": 7,
   "id": "4e51486d",
   "metadata": {},
   "outputs": [
    {
     "data": {
      "text/html": [
       "<div>\n",
       "<style scoped>\n",
       "    .dataframe tbody tr th:only-of-type {\n",
       "        vertical-align: middle;\n",
       "    }\n",
       "\n",
       "    .dataframe tbody tr th {\n",
       "        vertical-align: top;\n",
       "    }\n",
       "\n",
       "    .dataframe thead th {\n",
       "        text-align: right;\n",
       "    }\n",
       "</style>\n",
       "<table border=\"1\" class=\"dataframe\">\n",
       "  <thead>\n",
       "    <tr style=\"text-align: right;\">\n",
       "      <th></th>\n",
       "      <th>Unnamed: 0</th>\n",
       "      <th>symboling</th>\n",
       "      <th>normalized-losses</th>\n",
       "      <th>make</th>\n",
       "      <th>num-of-doors</th>\n",
       "      <th>body-style</th>\n",
       "      <th>drive-wheels</th>\n",
       "      <th>engine-location</th>\n",
       "      <th>wheel-base</th>\n",
       "      <th>length</th>\n",
       "      <th>...</th>\n",
       "      <th>horsepower</th>\n",
       "      <th>peak-rpm</th>\n",
       "      <th>city-mpg</th>\n",
       "      <th>highway-L/100km</th>\n",
       "      <th>price</th>\n",
       "      <th>horsepower-binned</th>\n",
       "      <th>diesel</th>\n",
       "      <th>gas</th>\n",
       "      <th>aspiration-std</th>\n",
       "      <th>aspiration-turbo</th>\n",
       "    </tr>\n",
       "  </thead>\n",
       "  <tbody>\n",
       "    <tr>\n",
       "      <th>0</th>\n",
       "      <td>0</td>\n",
       "      <td>3</td>\n",
       "      <td>122</td>\n",
       "      <td>alfa-romero</td>\n",
       "      <td>two</td>\n",
       "      <td>convertible</td>\n",
       "      <td>rwd</td>\n",
       "      <td>front</td>\n",
       "      <td>88.6</td>\n",
       "      <td>0.811148</td>\n",
       "      <td>...</td>\n",
       "      <td>111</td>\n",
       "      <td>5000.0</td>\n",
       "      <td>21</td>\n",
       "      <td>8.703704</td>\n",
       "      <td>13495</td>\n",
       "      <td>Low</td>\n",
       "      <td>0</td>\n",
       "      <td>1</td>\n",
       "      <td>1</td>\n",
       "      <td>0</td>\n",
       "    </tr>\n",
       "    <tr>\n",
       "      <th>1</th>\n",
       "      <td>1</td>\n",
       "      <td>3</td>\n",
       "      <td>122</td>\n",
       "      <td>alfa-romero</td>\n",
       "      <td>two</td>\n",
       "      <td>convertible</td>\n",
       "      <td>rwd</td>\n",
       "      <td>front</td>\n",
       "      <td>88.6</td>\n",
       "      <td>0.811148</td>\n",
       "      <td>...</td>\n",
       "      <td>111</td>\n",
       "      <td>5000.0</td>\n",
       "      <td>21</td>\n",
       "      <td>8.703704</td>\n",
       "      <td>16500</td>\n",
       "      <td>Low</td>\n",
       "      <td>0</td>\n",
       "      <td>1</td>\n",
       "      <td>1</td>\n",
       "      <td>0</td>\n",
       "    </tr>\n",
       "    <tr>\n",
       "      <th>2</th>\n",
       "      <td>2</td>\n",
       "      <td>1</td>\n",
       "      <td>122</td>\n",
       "      <td>alfa-romero</td>\n",
       "      <td>two</td>\n",
       "      <td>hatchback</td>\n",
       "      <td>rwd</td>\n",
       "      <td>front</td>\n",
       "      <td>94.5</td>\n",
       "      <td>0.822681</td>\n",
       "      <td>...</td>\n",
       "      <td>154</td>\n",
       "      <td>5000.0</td>\n",
       "      <td>19</td>\n",
       "      <td>9.038462</td>\n",
       "      <td>16500</td>\n",
       "      <td>Medium</td>\n",
       "      <td>0</td>\n",
       "      <td>1</td>\n",
       "      <td>1</td>\n",
       "      <td>0</td>\n",
       "    </tr>\n",
       "    <tr>\n",
       "      <th>3</th>\n",
       "      <td>3</td>\n",
       "      <td>2</td>\n",
       "      <td>164</td>\n",
       "      <td>audi</td>\n",
       "      <td>four</td>\n",
       "      <td>sedan</td>\n",
       "      <td>fwd</td>\n",
       "      <td>front</td>\n",
       "      <td>99.8</td>\n",
       "      <td>0.848630</td>\n",
       "      <td>...</td>\n",
       "      <td>102</td>\n",
       "      <td>5500.0</td>\n",
       "      <td>24</td>\n",
       "      <td>7.833333</td>\n",
       "      <td>13950</td>\n",
       "      <td>Low</td>\n",
       "      <td>0</td>\n",
       "      <td>1</td>\n",
       "      <td>1</td>\n",
       "      <td>0</td>\n",
       "    </tr>\n",
       "    <tr>\n",
       "      <th>4</th>\n",
       "      <td>4</td>\n",
       "      <td>2</td>\n",
       "      <td>164</td>\n",
       "      <td>audi</td>\n",
       "      <td>four</td>\n",
       "      <td>sedan</td>\n",
       "      <td>4wd</td>\n",
       "      <td>front</td>\n",
       "      <td>99.4</td>\n",
       "      <td>0.848630</td>\n",
       "      <td>...</td>\n",
       "      <td>115</td>\n",
       "      <td>5500.0</td>\n",
       "      <td>18</td>\n",
       "      <td>10.681818</td>\n",
       "      <td>17450</td>\n",
       "      <td>Low</td>\n",
       "      <td>0</td>\n",
       "      <td>1</td>\n",
       "      <td>1</td>\n",
       "      <td>0</td>\n",
       "    </tr>\n",
       "    <tr>\n",
       "      <th>...</th>\n",
       "      <td>...</td>\n",
       "      <td>...</td>\n",
       "      <td>...</td>\n",
       "      <td>...</td>\n",
       "      <td>...</td>\n",
       "      <td>...</td>\n",
       "      <td>...</td>\n",
       "      <td>...</td>\n",
       "      <td>...</td>\n",
       "      <td>...</td>\n",
       "      <td>...</td>\n",
       "      <td>...</td>\n",
       "      <td>...</td>\n",
       "      <td>...</td>\n",
       "      <td>...</td>\n",
       "      <td>...</td>\n",
       "      <td>...</td>\n",
       "      <td>...</td>\n",
       "      <td>...</td>\n",
       "      <td>...</td>\n",
       "      <td>...</td>\n",
       "    </tr>\n",
       "    <tr>\n",
       "      <th>196</th>\n",
       "      <td>196</td>\n",
       "      <td>-1</td>\n",
       "      <td>95</td>\n",
       "      <td>volvo</td>\n",
       "      <td>four</td>\n",
       "      <td>sedan</td>\n",
       "      <td>rwd</td>\n",
       "      <td>front</td>\n",
       "      <td>109.1</td>\n",
       "      <td>0.907256</td>\n",
       "      <td>...</td>\n",
       "      <td>114</td>\n",
       "      <td>5400.0</td>\n",
       "      <td>23</td>\n",
       "      <td>8.392857</td>\n",
       "      <td>16845</td>\n",
       "      <td>Low</td>\n",
       "      <td>0</td>\n",
       "      <td>1</td>\n",
       "      <td>1</td>\n",
       "      <td>0</td>\n",
       "    </tr>\n",
       "    <tr>\n",
       "      <th>197</th>\n",
       "      <td>197</td>\n",
       "      <td>-1</td>\n",
       "      <td>95</td>\n",
       "      <td>volvo</td>\n",
       "      <td>four</td>\n",
       "      <td>sedan</td>\n",
       "      <td>rwd</td>\n",
       "      <td>front</td>\n",
       "      <td>109.1</td>\n",
       "      <td>0.907256</td>\n",
       "      <td>...</td>\n",
       "      <td>160</td>\n",
       "      <td>5300.0</td>\n",
       "      <td>19</td>\n",
       "      <td>9.400000</td>\n",
       "      <td>19045</td>\n",
       "      <td>Medium</td>\n",
       "      <td>0</td>\n",
       "      <td>1</td>\n",
       "      <td>0</td>\n",
       "      <td>1</td>\n",
       "    </tr>\n",
       "    <tr>\n",
       "      <th>198</th>\n",
       "      <td>198</td>\n",
       "      <td>-1</td>\n",
       "      <td>95</td>\n",
       "      <td>volvo</td>\n",
       "      <td>four</td>\n",
       "      <td>sedan</td>\n",
       "      <td>rwd</td>\n",
       "      <td>front</td>\n",
       "      <td>109.1</td>\n",
       "      <td>0.907256</td>\n",
       "      <td>...</td>\n",
       "      <td>134</td>\n",
       "      <td>5500.0</td>\n",
       "      <td>18</td>\n",
       "      <td>10.217391</td>\n",
       "      <td>21485</td>\n",
       "      <td>Medium</td>\n",
       "      <td>0</td>\n",
       "      <td>1</td>\n",
       "      <td>1</td>\n",
       "      <td>0</td>\n",
       "    </tr>\n",
       "    <tr>\n",
       "      <th>199</th>\n",
       "      <td>199</td>\n",
       "      <td>-1</td>\n",
       "      <td>95</td>\n",
       "      <td>volvo</td>\n",
       "      <td>four</td>\n",
       "      <td>sedan</td>\n",
       "      <td>rwd</td>\n",
       "      <td>front</td>\n",
       "      <td>109.1</td>\n",
       "      <td>0.907256</td>\n",
       "      <td>...</td>\n",
       "      <td>106</td>\n",
       "      <td>4800.0</td>\n",
       "      <td>26</td>\n",
       "      <td>8.703704</td>\n",
       "      <td>22470</td>\n",
       "      <td>Low</td>\n",
       "      <td>1</td>\n",
       "      <td>0</td>\n",
       "      <td>0</td>\n",
       "      <td>1</td>\n",
       "    </tr>\n",
       "    <tr>\n",
       "      <th>200</th>\n",
       "      <td>200</td>\n",
       "      <td>-1</td>\n",
       "      <td>95</td>\n",
       "      <td>volvo</td>\n",
       "      <td>four</td>\n",
       "      <td>sedan</td>\n",
       "      <td>rwd</td>\n",
       "      <td>front</td>\n",
       "      <td>109.1</td>\n",
       "      <td>0.907256</td>\n",
       "      <td>...</td>\n",
       "      <td>114</td>\n",
       "      <td>5400.0</td>\n",
       "      <td>19</td>\n",
       "      <td>9.400000</td>\n",
       "      <td>22625</td>\n",
       "      <td>Low</td>\n",
       "      <td>0</td>\n",
       "      <td>1</td>\n",
       "      <td>0</td>\n",
       "      <td>1</td>\n",
       "    </tr>\n",
       "  </tbody>\n",
       "</table>\n",
       "<p>201 rows × 30 columns</p>\n",
       "</div>"
      ],
      "text/plain": [
       "     Unnamed: 0  symboling  normalized-losses         make num-of-doors  \\\n",
       "0             0          3                122  alfa-romero          two   \n",
       "1             1          3                122  alfa-romero          two   \n",
       "2             2          1                122  alfa-romero          two   \n",
       "3             3          2                164         audi         four   \n",
       "4             4          2                164         audi         four   \n",
       "..          ...        ...                ...          ...          ...   \n",
       "196         196         -1                 95        volvo         four   \n",
       "197         197         -1                 95        volvo         four   \n",
       "198         198         -1                 95        volvo         four   \n",
       "199         199         -1                 95        volvo         four   \n",
       "200         200         -1                 95        volvo         four   \n",
       "\n",
       "      body-style drive-wheels engine-location  wheel-base    length  ...  \\\n",
       "0    convertible          rwd           front        88.6  0.811148  ...   \n",
       "1    convertible          rwd           front        88.6  0.811148  ...   \n",
       "2      hatchback          rwd           front        94.5  0.822681  ...   \n",
       "3          sedan          fwd           front        99.8  0.848630  ...   \n",
       "4          sedan          4wd           front        99.4  0.848630  ...   \n",
       "..           ...          ...             ...         ...       ...  ...   \n",
       "196        sedan          rwd           front       109.1  0.907256  ...   \n",
       "197        sedan          rwd           front       109.1  0.907256  ...   \n",
       "198        sedan          rwd           front       109.1  0.907256  ...   \n",
       "199        sedan          rwd           front       109.1  0.907256  ...   \n",
       "200        sedan          rwd           front       109.1  0.907256  ...   \n",
       "\n",
       "     horsepower  peak-rpm  city-mpg highway-L/100km  price  horsepower-binned  \\\n",
       "0           111    5000.0        21        8.703704  13495                Low   \n",
       "1           111    5000.0        21        8.703704  16500                Low   \n",
       "2           154    5000.0        19        9.038462  16500             Medium   \n",
       "3           102    5500.0        24        7.833333  13950                Low   \n",
       "4           115    5500.0        18       10.681818  17450                Low   \n",
       "..          ...       ...       ...             ...    ...                ...   \n",
       "196         114    5400.0        23        8.392857  16845                Low   \n",
       "197         160    5300.0        19        9.400000  19045             Medium   \n",
       "198         134    5500.0        18       10.217391  21485             Medium   \n",
       "199         106    4800.0        26        8.703704  22470                Low   \n",
       "200         114    5400.0        19        9.400000  22625                Low   \n",
       "\n",
       "    diesel  gas  aspiration-std  aspiration-turbo  \n",
       "0        0    1               1                 0  \n",
       "1        0    1               1                 0  \n",
       "2        0    1               1                 0  \n",
       "3        0    1               1                 0  \n",
       "4        0    1               1                 0  \n",
       "..     ...  ...             ...               ...  \n",
       "196      0    1               1                 0  \n",
       "197      0    1               0                 1  \n",
       "198      0    1               1                 0  \n",
       "199      1    0               0                 1  \n",
       "200      0    1               0                 1  \n",
       "\n",
       "[201 rows x 30 columns]"
      ]
     },
     "execution_count": 7,
     "metadata": {},
     "output_type": "execute_result"
    }
   ],
   "source": [
    "df"
   ]
  },
  {
   "cell_type": "code",
   "execution_count": 8,
   "id": "46a9823a",
   "metadata": {},
   "outputs": [
    {
     "name": "stderr",
     "output_type": "stream",
     "text": [
      "C:\\Users\\Admin\\AppData\\Local\\Temp/ipykernel_4996/3038578967.py:1: FutureWarning: Dropping of nuisance columns in DataFrame reductions (with 'numeric_only=None') is deprecated; in a future version this will raise TypeError.  Select only valid columns before calling the reduction.\n",
      "  df.skew(axis=0)\n"
     ]
    },
    {
     "data": {
      "text/plain": [
       "Unnamed: 0           0.000000\n",
       "symboling            0.197370\n",
       "normalized-losses    0.846546\n",
       "wheel-base           1.031261\n",
       "length               0.154446\n",
       "width                0.875029\n",
       "height               0.029173\n",
       "curb-weight          0.705804\n",
       "engine-size          1.979144\n",
       "bore                -0.032730\n",
       "stroke              -0.700396\n",
       "compression-ratio    2.584462\n",
       "horsepower           1.146729\n",
       "peak-rpm             0.107770\n",
       "city-mpg             0.680433\n",
       "highway-L/100km      0.849662\n",
       "price                1.809675\n",
       "diesel               2.696072\n",
       "gas                 -2.696072\n",
       "aspiration-std      -1.686384\n",
       "aspiration-turbo     1.686384\n",
       "dtype: float64"
      ]
     },
     "execution_count": 8,
     "metadata": {},
     "output_type": "execute_result"
    }
   ],
   "source": [
    "df.skew(axis=0)"
   ]
  },
  {
   "cell_type": "code",
   "execution_count": 10,
   "id": "5e6a3afa",
   "metadata": {},
   "outputs": [
    {
     "data": {
      "text/plain": [
       "0.5187937934151675"
      ]
     },
     "execution_count": 10,
     "metadata": {},
     "output_type": "execute_result"
    }
   ],
   "source": [
    "#Right Skewed log transformation\n",
    "import numpy as np\n",
    "np.log(1.68)"
   ]
  },
  {
   "cell_type": "code",
   "execution_count": 11,
   "id": "c25a169f",
   "metadata": {},
   "outputs": [
    {
     "name": "stderr",
     "output_type": "stream",
     "text": [
      "C:\\ProgramData\\Anaconda3\\lib\\site-packages\\pandas\\core\\arraylike.py:364: RuntimeWarning: divide by zero encountered in log\n",
      "  result = getattr(ufunc, method)(*inputs, **kwargs)\n"
     ]
    }
   ],
   "source": [
    "\n",
    "log_aspiration_turbo=np.log(df['aspiration-turbo'])"
   ]
  },
  {
   "cell_type": "code",
   "execution_count": 12,
   "id": "7a18a099",
   "metadata": {},
   "outputs": [
    {
     "data": {
      "text/plain": [
       "0   -inf\n",
       "1   -inf\n",
       "2   -inf\n",
       "3   -inf\n",
       "4   -inf\n",
       "Name: aspiration-turbo, dtype: float64"
      ]
     },
     "execution_count": 12,
     "metadata": {},
     "output_type": "execute_result"
    }
   ],
   "source": [
    "log_aspiration_turbo.head()"
   ]
  },
  {
   "cell_type": "code",
   "execution_count": 13,
   "id": "6769f76c",
   "metadata": {},
   "outputs": [
    {
     "data": {
      "text/plain": [
       "nan"
      ]
     },
     "execution_count": 13,
     "metadata": {},
     "output_type": "execute_result"
    }
   ],
   "source": [
    "log_aspiration_turbo.skew()"
   ]
  },
  {
   "cell_type": "code",
   "execution_count": 14,
   "id": "b81662d6",
   "metadata": {},
   "outputs": [
    {
     "data": {
      "text/plain": [
       "2.5844624326120726"
      ]
     },
     "execution_count": 14,
     "metadata": {},
     "output_type": "execute_result"
    }
   ],
   "source": [
    "#Original skewed value\n",
    "df['compression-ratio'].skew()"
   ]
  },
  {
   "cell_type": "code",
   "execution_count": 15,
   "id": "44bdf7e1",
   "metadata": {},
   "outputs": [
    {
     "data": {
      "text/plain": [
       "0    3.000000\n",
       "1    3.000000\n",
       "2    3.000000\n",
       "3    3.162278\n",
       "4    2.828427\n",
       "Name: compression-ratio, dtype: float64"
      ]
     },
     "execution_count": 15,
     "metadata": {},
     "output_type": "execute_result"
    }
   ],
   "source": [
    "#root transformation\n",
    "r_compression_ratio=np.sqrt(df['compression-ratio'])\n",
    "r_compression_ratio.head()"
   ]
  },
  {
   "cell_type": "code",
   "execution_count": 16,
   "id": "a10af94c",
   "metadata": {},
   "outputs": [
    {
     "data": {
      "text/plain": [
       "2.4866297804171253"
      ]
     },
     "execution_count": 16,
     "metadata": {},
     "output_type": "execute_result"
    }
   ],
   "source": [
    "r_compression_ratio.skew()"
   ]
  },
  {
   "cell_type": "code",
   "execution_count": 17,
   "id": "a7db0855",
   "metadata": {},
   "outputs": [
    {
     "data": {
      "text/plain": [
       "0    2.080084\n",
       "1    2.080084\n",
       "2    2.080084\n",
       "3    2.154435\n",
       "4    2.000000\n",
       "Name: compression-ratio, dtype: float64"
      ]
     },
     "execution_count": 17,
     "metadata": {},
     "output_type": "execute_result"
    }
   ],
   "source": [
    "# cube root transformtion x=x^1/3\n",
    "cube_compression_ratio=np.cbrt(df['compression-ratio'])\n",
    "cube_compression_ratio.head(5)"
   ]
  },
  {
   "cell_type": "code",
   "execution_count": 18,
   "id": "2f127e12",
   "metadata": {},
   "outputs": [
    {
     "data": {
      "text/plain": [
       "2.4442345326042383"
      ]
     },
     "execution_count": 18,
     "metadata": {},
     "output_type": "execute_result"
    }
   ],
   "source": [
    "cube_compression_ratio.skew()"
   ]
  },
  {
   "cell_type": "code",
   "execution_count": 19,
   "id": "5103867f",
   "metadata": {},
   "outputs": [
    {
     "name": "stderr",
     "output_type": "stream",
     "text": [
      "C:\\ProgramData\\Anaconda3\\lib\\site-packages\\seaborn\\distributions.py:2619: FutureWarning: `distplot` is a deprecated function and will be removed in a future version. Please adapt your code to use either `displot` (a figure-level function with similar flexibility) or `histplot` (an axes-level function for histograms).\n",
      "  warnings.warn(msg, FutureWarning)\n"
     ]
    },
    {
     "data": {
      "text/plain": [
       "<AxesSubplot:xlabel='compression-ratio', ylabel='Density'>"
      ]
     },
     "execution_count": 19,
     "metadata": {},
     "output_type": "execute_result"
    },
    {
     "data": {
      "image/png": "[encoded data removed]",
      "text/plain": [
       "<Figure size 432x288 with 1 Axes>"
      ]
     },
     "metadata": {
      "needs_background": "light"
     },
     "output_type": "display_data"
    }
   ],
   "source": [
    "import seaborn as sn\n",
    "sn.distplot(df[\"compression-ratio\"])"
   ]
  },
  {
   "cell_type": "code",
   "execution_count": 20,
   "id": "11ed0778",
   "metadata": {},
   "outputs": [
    {
     "data": {
      "text/plain": [
       "0    0.111111\n",
       "1    0.111111\n",
       "2    0.111111\n",
       "3    0.100000\n",
       "4    0.125000\n",
       "Name: compression-ratio, dtype: float64"
      ]
     },
     "execution_count": 20,
     "metadata": {},
     "output_type": "execute_result"
    }
   ],
   "source": [
    "#Reciprocals transformation x=1/x\n",
    "reci_compression_ratio=np.reciprocal(df['compression-ratio'])\n",
    "reci_compression_ratio.head(5)"
   ]
  },
  {
   "cell_type": "code",
   "execution_count": 21,
   "id": "02454678",
   "metadata": {},
   "outputs": [
    {
     "data": {
      "text/plain": [
       "-1.8527998600619238"
      ]
     },
     "execution_count": 21,
     "metadata": {},
     "output_type": "execute_result"
    }
   ],
   "source": [
    "reci_compression_ratio.skew()"
   ]
  },
  {
   "cell_type": "code",
   "execution_count": 22,
   "id": "a4bd8a62",
   "metadata": {},
   "outputs": [
    {
     "name": "stderr",
     "output_type": "stream",
     "text": [
      "C:\\ProgramData\\Anaconda3\\lib\\site-packages\\seaborn\\distributions.py:2619: FutureWarning: `distplot` is a deprecated function and will be removed in a future version. Please adapt your code to use either `displot` (a figure-level function with similar flexibility) or `histplot` (an axes-level function for histograms).\n",
      "  warnings.warn(msg, FutureWarning)\n"
     ]
    },
    {
     "data": {
      "text/plain": [
       "<AxesSubplot:xlabel='compression-ratio', ylabel='Density'>"
      ]
     },
     "execution_count": 22,
     "metadata": {},
     "output_type": "execute_result"
    },
    {
     "data": {
      "image/png": "[encoded data removed]",
      "text/plain": [
       "<Figure size 432x288 with 1 Axes>"
      ]
     },
     "metadata": {
      "needs_background": "light"
     },
     "output_type": "display_data"
    }
   ],
   "source": [
    "import seaborn as sn\n",
    "sn.distplot(reci_compression_ratio)"
   ]
  },
  {
   "cell_type": "code",
   "execution_count": 23,
   "id": "450e02e1",
   "metadata": {},
   "outputs": [
    {
     "name": "stderr",
     "output_type": "stream",
     "text": [
      "C:\\ProgramData\\Anaconda3\\lib\\site-packages\\seaborn\\distributions.py:2619: FutureWarning: `distplot` is a deprecated function and will be removed in a future version. Please adapt your code to use either `displot` (a figure-level function with similar flexibility) or `histplot` (an axes-level function for histograms).\n",
      "  warnings.warn(msg, FutureWarning)\n"
     ]
    },
    {
     "data": {
      "text/plain": [
       "<AxesSubplot:xlabel='city-mpg', ylabel='Density'>"
      ]
     },
     "execution_count": 23,
     "metadata": {},
     "output_type": "execute_result"
    },
    {
     "data": {
      "image/png": "[encoded data removed]",
      "text/plain": [
       "<Figure size 432x288 with 1 Axes>"
      ]
     },
     "metadata": {
      "needs_background": "light"
     },
     "output_type": "display_data"
    }
   ],
   "source": [
    "sn.distplot(df[\"city-mpg\"])"
   ]
  },
  {
   "cell_type": "code",
   "execution_count": 24,
   "id": "a553b1f1",
   "metadata": {},
   "outputs": [
    {
     "name": "stderr",
     "output_type": "stream",
     "text": [
      "C:\\ProgramData\\Anaconda3\\lib\\site-packages\\seaborn\\distributions.py:2619: FutureWarning: `distplot` is a deprecated function and will be removed in a future version. Please adapt your code to use either `displot` (a figure-level function with similar flexibility) or `histplot` (an axes-level function for histograms).\n",
      "  warnings.warn(msg, FutureWarning)\n"
     ]
    },
    {
     "data": {
      "text/plain": [
       "<AxesSubplot:xlabel='stroke', ylabel='Density'>"
      ]
     },
     "execution_count": 24,
     "metadata": {},
     "output_type": "execute_result"
    },
    {
     "data": {
      "image/png": "[encoded data removed]",
      "text/plain": [
       "<Figure size 432x288 with 1 Axes>"
      ]
     },
     "metadata": {
      "needs_background": "light"
     },
     "output_type": "display_data"
    }
   ],
   "source": [
    "sn.distplot(df[\"stroke\"])"
   ]
  },
  {
   "cell_type": "code",
   "execution_count": 25,
   "id": "1b19c5cf",
   "metadata": {},
   "outputs": [
    {
     "data": {
      "text/plain": [
       "-0.7003960288079346"
      ]
     },
     "execution_count": 25,
     "metadata": {},
     "output_type": "execute_result"
    }
   ],
   "source": [
    "#original skewed value\n",
    "df[\"stroke\"].skew()"
   ]
  },
  {
   "cell_type": "code",
   "execution_count": 26,
   "id": "7ddb8ab9",
   "metadata": {},
   "outputs": [
    {
     "data": {
      "text/plain": [
       "0     7.1824\n",
       "1     7.1824\n",
       "2    12.0409\n",
       "3    11.5600\n",
       "4    11.5600\n",
       "Name: stroke, dtype: float64"
      ]
     },
     "execution_count": 26,
     "metadata": {},
     "output_type": "execute_result"
    }
   ],
   "source": [
    "#Square transformation x to x^2\n",
    "square_stroke=np.square(df['stroke'])\n",
    "square_stroke.head(5)"
   ]
  },
  {
   "cell_type": "code",
   "execution_count": 27,
   "id": "bacc0ed7",
   "metadata": {},
   "outputs": [
    {
     "data": {
      "text/plain": [
       "-0.16456734811645615"
      ]
     },
     "execution_count": 27,
     "metadata": {},
     "output_type": "execute_result"
    }
   ],
   "source": [
    "square_stroke.skew()"
   ]
  },
  {
   "cell_type": "code",
   "execution_count": 28,
   "id": "f8979bc1",
   "metadata": {},
   "outputs": [
    {
     "name": "stderr",
     "output_type": "stream",
     "text": [
      "C:\\ProgramData\\Anaconda3\\lib\\site-packages\\seaborn\\distributions.py:2619: FutureWarning: `distplot` is a deprecated function and will be removed in a future version. Please adapt your code to use either `displot` (a figure-level function with similar flexibility) or `histplot` (an axes-level function for histograms).\n",
      "  warnings.warn(msg, FutureWarning)\n"
     ]
    },
    {
     "data": {
      "text/plain": [
       "<AxesSubplot:xlabel='stroke', ylabel='Density'>"
      ]
     },
     "execution_count": 28,
     "metadata": {},
     "output_type": "execute_result"
    },
    {
     "data": {
      "image/png": "[encoded data removed]",
      "text/plain": [
       "<Figure size 432x288 with 1 Axes>"
      ]
     },
     "metadata": {
      "needs_background": "light"
     },
     "output_type": "display_data"
    }
   ],
   "source": [
    "sn.distplot(square_stroke)"
   ]
  },
  {
   "cell_type": "code",
   "execution_count": 29,
   "id": "f0628b68",
   "metadata": {},
   "outputs": [
    {
     "data": {
      "text/plain": [
       "0    19.248832\n",
       "1    19.248832\n",
       "2    41.781923\n",
       "3    39.304000\n",
       "4    39.304000\n",
       "Name: stroke, dtype: float64"
      ]
     },
     "execution_count": 29,
     "metadata": {},
     "output_type": "execute_result"
    }
   ],
   "source": [
    "#cubes transformation x to x^3\n",
    "cubes_stroke=np.power(df['stroke'],3)\n",
    "cubes_stroke.head(5)"
   ]
  },
  {
   "cell_type": "code",
   "execution_count": 30,
   "id": "9d9e3803",
   "metadata": {},
   "outputs": [
    {
     "data": {
      "text/plain": [
       "0.3586197086362063"
      ]
     },
     "execution_count": 30,
     "metadata": {},
     "output_type": "execute_result"
    }
   ],
   "source": [
    "cubes_stroke.skew()"
   ]
  },
  {
   "cell_type": "code",
   "execution_count": 31,
   "id": "8ae700eb",
   "metadata": {},
   "outputs": [
    {
     "name": "stderr",
     "output_type": "stream",
     "text": [
      "C:\\ProgramData\\Anaconda3\\lib\\site-packages\\seaborn\\distributions.py:2619: FutureWarning: `distplot` is a deprecated function and will be removed in a future version. Please adapt your code to use either `displot` (a figure-level function with similar flexibility) or `histplot` (an axes-level function for histograms).\n",
      "  warnings.warn(msg, FutureWarning)\n"
     ]
    },
    {
     "data": {
      "text/plain": [
       "<AxesSubplot:xlabel='stroke', ylabel='Density'>"
      ]
     },
     "execution_count": 31,
     "metadata": {},
     "output_type": "execute_result"
    },
    {
     "data": {
      "image/png": "[encoded data removed]",
      "text/plain": [
       "<Figure size 432x288 with 1 Axes>"
      ]
     },
     "metadata": {
      "needs_background": "light"
     },
     "output_type": "display_data"
    }
   ],
   "source": [
    "sn.distplot(cubes_stroke)"
   ]
  },
  {
   "cell_type": "code",
   "execution_count": 32,
   "id": "5ace87f8",
   "metadata": {},
   "outputs": [
    {
     "name": "stderr",
     "output_type": "stream",
     "text": [
      "C:\\ProgramData\\Anaconda3\\lib\\site-packages\\seaborn\\distributions.py:2619: FutureWarning: `distplot` is a deprecated function and will be removed in a future version. Please adapt your code to use either `displot` (a figure-level function with similar flexibility) or `histplot` (an axes-level function for histograms).\n",
      "  warnings.warn(msg, FutureWarning)\n"
     ]
    },
    {
     "data": {
      "text/plain": [
       "<AxesSubplot:xlabel='length', ylabel='Density'>"
      ]
     },
     "execution_count": 32,
     "metadata": {},
     "output_type": "execute_result"
    },
    {
     "data": {
      "image/png": "[encoded data removed]",
      "text/plain": [
       "<Figure size 432x288 with 1 Axes>"
      ]
     },
     "metadata": {
      "needs_background": "light"
     },
     "output_type": "display_data"
    }
   ],
   "source": [
    "sn.distplot(df[\"length\"])"
   ]
  },
  {
   "cell_type": "markdown",
   "id": "b6fb585e",
   "metadata": {},
   "source": [
    "# Convert distribution to Normal Distribution"
   ]
  },
  {
   "cell_type": "code",
   "execution_count": 33,
   "id": "1a8a888c",
   "metadata": {},
   "outputs": [
    {
     "name": "stderr",
     "output_type": "stream",
     "text": [
      "C:\\Users\\Admin\\AppData\\Local\\Temp/ipykernel_4996/1665899112.py:1: FutureWarning: Dropping of nuisance columns in DataFrame reductions (with 'numeric_only=None') is deprecated; in a future version this will raise TypeError.  Select only valid columns before calling the reduction.\n",
      "  df.skew()\n"
     ]
    },
    {
     "data": {
      "text/plain": [
       "Unnamed: 0           0.000000\n",
       "symboling            0.197370\n",
       "normalized-losses    0.846546\n",
       "wheel-base           1.031261\n",
       "length               0.154446\n",
       "width                0.875029\n",
       "height               0.029173\n",
       "curb-weight          0.705804\n",
       "engine-size          1.979144\n",
       "bore                -0.032730\n",
       "stroke              -0.700396\n",
       "compression-ratio    2.584462\n",
       "horsepower           1.146729\n",
       "peak-rpm             0.107770\n",
       "city-mpg             0.680433\n",
       "highway-L/100km      0.849662\n",
       "price                1.809675\n",
       "diesel               2.696072\n",
       "gas                 -2.696072\n",
       "aspiration-std      -1.686384\n",
       "aspiration-turbo     1.686384\n",
       "dtype: float64"
      ]
     },
     "execution_count": 33,
     "metadata": {},
     "output_type": "execute_result"
    }
   ],
   "source": [
    "df.skew()"
   ]
  },
  {
   "cell_type": "code",
   "execution_count": 34,
   "id": "58940abc",
   "metadata": {},
   "outputs": [
    {
     "data": {
      "text/plain": [
       "<AxesSubplot:>"
      ]
     },
     "execution_count": 34,
     "metadata": {},
     "output_type": "execute_result"
    },
    {
     "data": {
      "image/png": "[encoded data removed]",
      "text/plain": [
       "<Figure size 432x288 with 1 Axes>"
      ]
     },
     "metadata": {
      "needs_background": "light"
     },
     "output_type": "display_data"
    }
   ],
   "source": [
    "#by using histogram\n",
    "df.stroke.hist()"
   ]
  },
  {
   "cell_type": "code",
   "execution_count": null,
   "id": "50e04fd8",
   "metadata": {},
   "outputs": [],
   "source": [
    "#Moderately negatively Skewed i.e does not follow a normal distribution"
   ]
  },
  {
   "cell_type": "code",
   "execution_count": 35,
   "id": "a5bc88c2",
   "metadata": {},
   "outputs": [
    {
     "data": {
      "text/plain": [
       "array([[<AxesSubplot:title={'center':'compression-ratio'}>]], dtype=object)"
      ]
     },
     "execution_count": 35,
     "metadata": {},
     "output_type": "execute_result"
    },
    {
     "data": {
      "image/png": "[encoded data removed]",
      "text/plain": [
       "<Figure size 432x288 with 1 Axes>"
      ]
     },
     "metadata": {
      "needs_background": "light"
     },
     "output_type": "display_data"
    }
   ],
   "source": [
    "df.hist('compression-ratio')"
   ]
  },
  {
   "cell_type": "code",
   "execution_count": null,
   "id": "080c4dc0",
   "metadata": {},
   "outputs": [],
   "source": [
    "#Highly positive Skewed i.e does not follow a normal distribution"
   ]
  },
  {
   "cell_type": "code",
   "execution_count": 36,
   "id": "45e273a9",
   "metadata": {},
   "outputs": [
    {
     "data": {
      "text/plain": [
       "array([[<AxesSubplot:title={'center':'length'}>]], dtype=object)"
      ]
     },
     "execution_count": 36,
     "metadata": {},
     "output_type": "execute_result"
    },
    {
     "data": {
      "image/png": "[encoded data removed]",
      "text/plain": [
       "<Figure size 432x288 with 1 Axes>"
      ]
     },
     "metadata": {
      "needs_background": "light"
     },
     "output_type": "display_data"
    }
   ],
   "source": [
    "df.hist('length')"
   ]
  },
  {
   "cell_type": "code",
   "execution_count": null,
   "id": "64943130",
   "metadata": {},
   "outputs": [],
   "source": [
    "#Symmetric i.e does follow a normal distribution"
   ]
  },
  {
   "cell_type": "code",
   "execution_count": 37,
   "id": "9479700c",
   "metadata": {},
   "outputs": [
    {
     "data": {
      "image/png": "[encoded data removed]",
      "text/plain": [
       "<Figure size 432x288 with 1 Axes>"
      ]
     },
     "metadata": {
      "needs_background": "light"
     },
     "output_type": "display_data"
    }
   ],
   "source": [
    "import seaborn as sns\n",
    "sns.kdeplot(df['compression-ratio']);"
   ]
  },
  {
   "cell_type": "code",
   "execution_count": 38,
   "id": "574f900a",
   "metadata": {},
   "outputs": [
    {
     "data": {
      "image/png": "[encoded data removed]",
      "text/plain": [
       "<Figure size 432x288 with 1 Axes>"
      ]
     },
     "metadata": {
      "needs_background": "light"
     },
     "output_type": "display_data"
    }
   ],
   "source": [
    "sns.kdeplot(df['price']);#highly positively skewed"
   ]
  },
  {
   "cell_type": "code",
   "execution_count": 39,
   "id": "5c9ef436",
   "metadata": {},
   "outputs": [
    {
     "data": {
      "image/png": "[encoded data removed]",
      "text/plain": [
       "<Figure size 432x288 with 1 Axes>"
      ]
     },
     "metadata": {
      "needs_background": "light"
     },
     "output_type": "display_data"
    }
   ],
   "source": [
    "sns.kdeplot(df['gas']);#highly Negatively skewed\n"
   ]
  },
  {
   "cell_type": "markdown",
   "id": "bbb4f606",
   "metadata": {},
   "source": [
    "# distribution of variables using a Q-Q plot"
   ]
  },
  {
   "cell_type": "code",
   "execution_count": 40,
   "id": "767f83fa",
   "metadata": {},
   "outputs": [],
   "source": [
    "import scipy.stats as stats\n",
    "import pylab"
   ]
  },
  {
   "cell_type": "code",
   "execution_count": 60,
   "id": "69a37691",
   "metadata": {},
   "outputs": [
    {
     "data": {
      "image/png": "[encoded data removed]",
      "text/plain": [
       "<Figure size 432x288 with 1 Axes>"
      ]
     },
     "metadata": {
      "needs_background": "light"
     },
     "output_type": "display_data"
    }
   ],
   "source": [
    "stats.probplot(df.price,plot=pylab);#not normal distribution"
   ]
  },
  {
   "cell_type": "code",
   "execution_count": 42,
   "id": "b7f1a2f5",
   "metadata": {},
   "outputs": [
    {
     "data": {
      "image/png": "[encoded data removed]",
      "text/plain": [
       "<Figure size 432x288 with 1 Axes>"
      ]
     },
     "metadata": {
      "needs_background": "light"
     },
     "output_type": "display_data"
    }
   ],
   "source": [
    "stats.probplot(df.length,plot=pylab);#normal distribution"
   ]
  },
  {
   "cell_type": "code",
   "execution_count": null,
   "id": "8fd68383",
   "metadata": {},
   "outputs": [],
   "source": [
    "# Performing the transformations on the Price variable."
   ]
  },
  {
   "cell_type": "code",
   "execution_count": 43,
   "id": "ddd789b8",
   "metadata": {},
   "outputs": [],
   "source": [
    "df['price_log']=np.log(df['price'])"
   ]
  },
  {
   "cell_type": "code",
   "execution_count": 45,
   "id": "f55cf4fb",
   "metadata": {},
   "outputs": [
    {
     "data": {
      "text/plain": [
       "0       9.510075\n",
       "1       9.711116\n",
       "2       9.711116\n",
       "3       9.543235\n",
       "4       9.767095\n",
       "         ...    \n",
       "196     9.731809\n",
       "197     9.854560\n",
       "198     9.975110\n",
       "199    10.019936\n",
       "200    10.026811\n",
       "Name: price_log, Length: 201, dtype: float64"
      ]
     },
     "execution_count": 45,
     "metadata": {},
     "output_type": "execute_result"
    }
   ],
   "source": [
    "df['price_log']"
   ]
  },
  {
   "cell_type": "code",
   "execution_count": 46,
   "id": "b477a7b2",
   "metadata": {},
   "outputs": [
    {
     "data": {
      "text/plain": [
       "((array([-2.70235077, -2.39300644, -2.21670641, -2.09047253, -1.99075721,\n",
       "         -1.90762425, -1.83590295, -1.77254445, -1.71559368, -1.66371874,\n",
       "         -1.61596971, -1.57164427, -1.53020786, -1.49124379, -1.45442067,\n",
       "         -1.41947039, -1.38617282, -1.35434495, -1.32383285, -1.29450578,\n",
       "         -1.26625169, -1.2389738 , -1.21258791, -1.18702027, -1.1622059 ,\n",
       "         -1.13808725, -1.11461308, -1.09173755, -1.06941949, -1.04762177,\n",
       "         -1.02631079, -1.005456  , -0.98502958, -0.96500611, -0.94536226,\n",
       "         -0.92607659, -0.90712937, -0.88850233, -0.87017859, -0.85214246,\n",
       "         -0.83437937, -0.81687572, -0.79961884, -0.78259687, -0.76579869,\n",
       "         -0.74921388, -0.73283263, -0.71664571, -0.70064443, -0.68482057,\n",
       "         -0.66916635, -0.65367443, -0.63833783, -0.62314992, -0.60810442,\n",
       "         -0.59319534, -0.57841696, -0.56376385, -0.5492308 , -0.53481284,\n",
       "         -0.52050522, -0.50630336, -0.49220289, -0.47819962, -0.4642895 ,\n",
       "         -0.45046865, -0.43673331, -0.42307988, -0.40950487, -0.39600491,\n",
       "         -0.38257674, -0.3692172 , -0.35592325, -0.3426919 , -0.32952028,\n",
       "         -0.31640558, -0.30334508, -0.29033612, -0.27737611, -0.26446253,\n",
       "         -0.2515929 , -0.23876481, -0.22597589, -0.21322383, -0.20050634,\n",
       "         -0.18782121, -0.17516622, -0.16253923, -0.1499381 , -0.13736074,\n",
       "         -0.12480507, -0.11226904, -0.09975064, -0.08724784, -0.07475867,\n",
       "         -0.06228115, -0.04981332, -0.03735323, -0.02489894, -0.0124485 ,\n",
       "          0.        ,  0.0124485 ,  0.02489894,  0.03735323,  0.04981332,\n",
       "          0.06228115,  0.07475867,  0.08724784,  0.09975064,  0.11226904,\n",
       "          0.12480507,  0.13736074,  0.1499381 ,  0.16253923,  0.17516622,\n",
       "          0.18782121,  0.20050634,  0.21322383,  0.22597589,  0.23876481,\n",
       "          0.2515929 ,  0.26446253,  0.27737611,  0.29033612,  0.30334508,\n",
       "          0.31640558,  0.32952028,  0.3426919 ,  0.35592325,  0.3692172 ,\n",
       "          0.38257674,  0.39600491,  0.40950487,  0.42307988,  0.43673331,\n",
       "          0.45046865,  0.4642895 ,  0.47819962,  0.49220289,  0.50630336,\n",
       "          0.52050522,  0.53481284,  0.5492308 ,  0.56376385,  0.57841696,\n",
       "          0.59319534,  0.60810442,  0.62314992,  0.63833783,  0.65367443,\n",
       "          0.66916635,  0.68482057,  0.70064443,  0.71664571,  0.73283263,\n",
       "          0.74921388,  0.76579869,  0.78259687,  0.79961884,  0.81687572,\n",
       "          0.83437937,  0.85214246,  0.87017859,  0.88850233,  0.90712937,\n",
       "          0.92607659,  0.94536226,  0.96500611,  0.98502958,  1.005456  ,\n",
       "          1.02631079,  1.04762177,  1.06941949,  1.09173755,  1.11461308,\n",
       "          1.13808725,  1.1622059 ,  1.18702027,  1.21258791,  1.2389738 ,\n",
       "          1.26625169,  1.29450578,  1.32383285,  1.35434495,  1.38617282,\n",
       "          1.41947039,  1.45442067,  1.49124379,  1.53020786,  1.57164427,\n",
       "          1.61596971,  1.66371874,  1.71559368,  1.77254445,  1.83590295,\n",
       "          1.90762425,  1.99075721,  2.09047253,  2.21670641,  2.39300644,\n",
       "          2.70235077]),\n",
       "  array([ 8.54051902,  8.54694615,  8.5554519 ,  8.58447794,  8.59211512,\n",
       "          8.59396903,  8.61232154,  8.62550933,  8.62550933,  8.71522404,\n",
       "          8.7305288 ,  8.73697109,  8.73697109,  8.74751095,  8.75431854,\n",
       "          8.76045305,  8.77632146,  8.7777096 ,  8.78400907,  8.79102986,\n",
       "          8.80222175,  8.8052252 ,  8.80866806,  8.80866806,  8.80911626,\n",
       "          8.82246957,  8.82394233,  8.83185794,  8.83273359,  8.84188199,\n",
       "          8.84476883,  8.85209276,  8.86120834,  8.86770921,  8.87150535,\n",
       "          8.87192625,  8.88155849,  8.89494446,  8.89494446,  8.89549263,\n",
       "          8.90231953,  8.90855938,  8.91771276,  8.92252496,  8.93629819,\n",
       "          8.93708704,  8.93708704,  8.94754602,  8.95389854,  8.95866874,\n",
       "          8.95866874,  8.96033937,  8.9617508 ,  8.97398493,  8.97436484,\n",
       "          8.97436484,  8.98180732,  8.98180732,  8.98406693,  8.98657163,\n",
       "          8.98707181,  8.9888205 ,  8.99442067,  9.01054707,  9.01127949,\n",
       "          9.01651287,  9.01784726,  9.03097444,  9.04180337,  9.04723303,\n",
       "          9.04723303,  9.04770379,  9.0546218 ,  9.08000387,  9.08760761,\n",
       "          9.08760761,  9.09616333,  9.09616333,  9.09918532,  9.09929707,\n",
       "          9.11548009,  9.1305393 ,  9.13324332,  9.13550906,  9.13550906,\n",
       "          9.1372319 ,  9.1375546 ,  9.15852062,  9.1630391 ,  9.16419172,\n",
       "          9.17357265,  9.19978486,  9.20623194,  9.20633235,  9.20833837,\n",
       "          9.20913965,  9.20923977,  9.20984025,  9.2299469 ,  9.23454506,\n",
       "          9.23941362,  9.24425859,  9.26813747,  9.27781209,  9.28683834,\n",
       "          9.29633457,  9.30063801,  9.3100047 ,  9.32357977,  9.32767886,\n",
       "          9.32794561,  9.32892309,  9.35435413,  9.35832925,  9.36683117,\n",
       "          9.37966112,  9.38008315,  9.38429368,  9.40672919,  9.4165412 ,\n",
       "          9.42867237,  9.44375104,  9.45438399,  9.46807857,  9.46846489,\n",
       "          9.46993156,  9.48797211,  9.4951433 ,  9.50412876,  9.51007453,\n",
       "          9.51037089,  9.51037089,  9.52112843,  9.53567944,  9.53676227,\n",
       "          9.54323479,  9.57491404,  9.58114502,  9.60703379,  9.6184686 ,\n",
       "          9.63233478,  9.64924026,  9.65374332,  9.65790666,  9.66077885,\n",
       "          9.66459564,  9.67940606,  9.68021899,  9.70686421,  9.71111566,\n",
       "          9.71111566,  9.71129746,  9.71202434,  9.71462465,  9.71896357,\n",
       "          9.72286455,  9.73180916,  9.7350689 ,  9.7365471 ,  9.74537068,\n",
       "          9.75260652,  9.76709493,  9.77956697,  9.78188473,  9.79534539,\n",
       "          9.80642584,  9.80642584,  9.81356285,  9.81705782,  9.82005159,\n",
       "          9.82119231,  9.83199155,  9.84797484,  9.84955921,  9.85455988,\n",
       "          9.88832315,  9.95084812,  9.95726526,  9.9751103 ,  9.99961558,\n",
       "         10.01993637, 10.02681077, 10.08058717, 10.10907794, 10.14847087,\n",
       "         10.24622583, 10.24877794, 10.33397042, 10.3609124 , 10.38127332,\n",
       "         10.38985654, 10.43493899, 10.43951298, 10.46470206, 10.47869544,\n",
       "         10.49127422, 10.51542468, 10.51942966, 10.62035126, 10.62898091,\n",
       "         10.72326738])),\n",
       " (0.4943784169481855, 9.350114658353991, 0.9758144053007528))"
      ]
     },
     "execution_count": 46,
     "metadata": {},
     "output_type": "execute_result"
    },
    {
     "data": {
      "image/png": "[encoded data removed]",
      "text/plain": [
       "<Figure size 432x288 with 1 Axes>"
      ]
     },
     "metadata": {
      "needs_background": "light"
     },
     "output_type": "display_data"
    }
   ],
   "source": [
    "stats.probplot(df['price_log'],plot=pylab)"
   ]
  },
  {
   "cell_type": "code",
   "execution_count": 47,
   "id": "2667c3b7",
   "metadata": {},
   "outputs": [],
   "source": [
    "df['price_reciprocal']=1/df.price"
   ]
  },
  {
   "cell_type": "code",
   "execution_count": 54,
   "id": "8d25349a",
   "metadata": {},
   "outputs": [
    {
     "data": {
      "text/plain": [
       "((array([-2.70235077, -2.39300644, -2.21670641, -2.09047253, -1.99075721,\n",
       "         -1.90762425, -1.83590295, -1.77254445, -1.71559368, -1.66371874,\n",
       "         -1.61596971, -1.57164427, -1.53020786, -1.49124379, -1.45442067,\n",
       "         -1.41947039, -1.38617282, -1.35434495, -1.32383285, -1.29450578,\n",
       "         -1.26625169, -1.2389738 , -1.21258791, -1.18702027, -1.1622059 ,\n",
       "         -1.13808725, -1.11461308, -1.09173755, -1.06941949, -1.04762177,\n",
       "         -1.02631079, -1.005456  , -0.98502958, -0.96500611, -0.94536226,\n",
       "         -0.92607659, -0.90712937, -0.88850233, -0.87017859, -0.85214246,\n",
       "         -0.83437937, -0.81687572, -0.79961884, -0.78259687, -0.76579869,\n",
       "         -0.74921388, -0.73283263, -0.71664571, -0.70064443, -0.68482057,\n",
       "         -0.66916635, -0.65367443, -0.63833783, -0.62314992, -0.60810442,\n",
       "         -0.59319534, -0.57841696, -0.56376385, -0.5492308 , -0.53481284,\n",
       "         -0.52050522, -0.50630336, -0.49220289, -0.47819962, -0.4642895 ,\n",
       "         -0.45046865, -0.43673331, -0.42307988, -0.40950487, -0.39600491,\n",
       "         -0.38257674, -0.3692172 , -0.35592325, -0.3426919 , -0.32952028,\n",
       "         -0.31640558, -0.30334508, -0.29033612, -0.27737611, -0.26446253,\n",
       "         -0.2515929 , -0.23876481, -0.22597589, -0.21322383, -0.20050634,\n",
       "         -0.18782121, -0.17516622, -0.16253923, -0.1499381 , -0.13736074,\n",
       "         -0.12480507, -0.11226904, -0.09975064, -0.08724784, -0.07475867,\n",
       "         -0.06228115, -0.04981332, -0.03735323, -0.02489894, -0.0124485 ,\n",
       "          0.        ,  0.0124485 ,  0.02489894,  0.03735323,  0.04981332,\n",
       "          0.06228115,  0.07475867,  0.08724784,  0.09975064,  0.11226904,\n",
       "          0.12480507,  0.13736074,  0.1499381 ,  0.16253923,  0.17516622,\n",
       "          0.18782121,  0.20050634,  0.21322383,  0.22597589,  0.23876481,\n",
       "          0.2515929 ,  0.26446253,  0.27737611,  0.29033612,  0.30334508,\n",
       "          0.31640558,  0.32952028,  0.3426919 ,  0.35592325,  0.3692172 ,\n",
       "          0.38257674,  0.39600491,  0.40950487,  0.42307988,  0.43673331,\n",
       "          0.45046865,  0.4642895 ,  0.47819962,  0.49220289,  0.50630336,\n",
       "          0.52050522,  0.53481284,  0.5492308 ,  0.56376385,  0.57841696,\n",
       "          0.59319534,  0.60810442,  0.62314992,  0.63833783,  0.65367443,\n",
       "          0.66916635,  0.68482057,  0.70064443,  0.71664571,  0.73283263,\n",
       "          0.74921388,  0.76579869,  0.78259687,  0.79961884,  0.81687572,\n",
       "          0.83437937,  0.85214246,  0.87017859,  0.88850233,  0.90712937,\n",
       "          0.92607659,  0.94536226,  0.96500611,  0.98502958,  1.005456  ,\n",
       "          1.02631079,  1.04762177,  1.06941949,  1.09173755,  1.11461308,\n",
       "          1.13808725,  1.1622059 ,  1.18702027,  1.21258791,  1.2389738 ,\n",
       "          1.26625169,  1.29450578,  1.32383285,  1.35434495,  1.38617282,\n",
       "          1.41947039,  1.45442067,  1.49124379,  1.53020786,  1.57164427,\n",
       "          1.61596971,  1.66371874,  1.71559368,  1.77254445,  1.83590295,\n",
       "          1.90762425,  1.99075721,  2.09047253,  2.21670641,  2.39300644,\n",
       "          2.70235077]),\n",
       "  array([2.20264317e-05, 2.42042842e-05, 2.44140625e-05, 2.70065896e-05,\n",
       "         2.71149675e-05, 2.77777778e-05, 2.81293952e-05, 2.85257873e-05,\n",
       "         2.92534519e-05, 2.93875632e-05, 3.07427447e-05, 3.10077519e-05,\n",
       "         3.16455696e-05, 3.25097529e-05, 3.54007363e-05, 3.54911982e-05,\n",
       "         3.91358798e-05, 4.07083249e-05, 4.18848168e-05, 4.41988950e-05,\n",
       "         4.45037828e-05, 4.54173858e-05, 4.65441005e-05, 4.73821369e-05,\n",
       "         4.76871722e-05, 5.07639982e-05, 5.25072197e-05, 5.27704485e-05,\n",
       "         5.28541226e-05, 5.37056928e-05, 5.42888165e-05, 5.43507799e-05,\n",
       "         5.45137375e-05, 5.47045952e-05, 5.50964187e-05, 5.50964187e-05,\n",
       "         5.57103064e-05, 5.64652739e-05, 5.65962986e-05, 5.73065903e-05,\n",
       "         5.81429153e-05, 5.85651537e-05, 5.90841950e-05, 5.91715976e-05,\n",
       "         5.93647967e-05, 5.98981731e-05, 6.01322910e-05, 6.03937674e-05,\n",
       "         6.05510142e-05, 6.05950433e-05, 6.06060606e-05, 6.06060606e-05,\n",
       "         6.08642727e-05, 6.25078135e-05, 6.25586487e-05, 6.34920635e-05,\n",
       "         6.37348630e-05, 6.39181847e-05, 6.41848524e-05, 6.44745326e-05,\n",
       "         6.55737705e-05, 6.64893617e-05, 6.72540184e-05, 6.90178756e-05,\n",
       "         6.94492673e-05, 7.16845878e-05, 7.21500722e-05, 7.22282412e-05,\n",
       "         7.32869183e-05, 7.40795614e-05, 7.40795614e-05, 7.41015191e-05,\n",
       "         7.45434215e-05, 7.52162467e-05, 7.57575758e-05, 7.71366862e-05,\n",
       "         7.72499034e-05, 7.72797527e-05, 7.83453463e-05, 7.91828332e-05,\n",
       "         8.03858521e-05, 8.13669650e-05, 8.21692687e-05, 8.40336134e-05,\n",
       "         8.43881857e-05, 8.44238075e-05, 8.55139388e-05, 8.62440707e-05,\n",
       "         8.65875833e-05, 8.88178346e-05, 8.89046942e-05, 8.89284126e-05,\n",
       "         8.92936869e-05, 9.05141202e-05, 9.13659205e-05, 9.17599560e-05,\n",
       "         9.26354794e-05, 9.34754160e-05, 9.43841435e-05, 9.66650556e-05,\n",
       "         9.71345313e-05, 9.76085896e-05, 9.80584428e-05, 1.00050025e-04,\n",
       "         1.00110121e-04, 1.00120144e-04, 1.00200401e-04, 1.00401606e-04,\n",
       "         1.00411688e-04, 1.01061142e-04, 1.03745202e-04, 1.04723008e-04,\n",
       "         1.04843783e-04, 1.05318589e-04, 1.07550011e-04, 1.07584723e-04,\n",
       "         1.07770234e-04, 1.07770234e-04, 1.08014690e-04, 1.08307159e-04,\n",
       "         1.09950522e-04, 1.11744329e-04, 1.11756817e-04, 1.12095057e-04,\n",
       "         1.12095057e-04, 1.13058225e-04, 1.13058225e-04, 1.13921167e-04,\n",
       "         1.16849731e-04, 1.17660901e-04, 1.17716304e-04, 1.17716304e-04,\n",
       "         1.18357202e-04, 1.19645848e-04, 1.21226815e-04, 1.21388687e-04,\n",
       "         1.22025625e-04, 1.22115032e-04, 1.24100273e-04, 1.24797205e-04,\n",
       "         1.25015627e-04, 1.25078174e-04, 1.25391850e-04, 1.25675506e-04,\n",
       "         1.25675506e-04, 1.26614333e-04, 1.26614333e-04, 1.26662445e-04,\n",
       "         1.28221567e-04, 1.28402671e-04, 1.28617363e-04, 1.28617363e-04,\n",
       "         1.29232360e-04, 1.30055924e-04, 1.31423314e-04, 1.31423314e-04,\n",
       "         1.31527029e-04, 1.33351113e-04, 1.33994372e-04, 1.35226504e-04,\n",
       "         1.36072935e-04, 1.37005069e-04, 1.37080192e-04, 1.37080192e-04,\n",
       "         1.38927480e-04, 1.40272128e-04, 1.40331182e-04, 1.40864911e-04,\n",
       "         1.41783638e-04, 1.43081986e-04, 1.44133756e-04, 1.44550448e-04,\n",
       "         1.45878920e-04, 1.46006716e-04, 1.47167035e-04, 1.47383935e-04,\n",
       "         1.49365198e-04, 1.49432158e-04, 1.49432158e-04, 1.49947518e-04,\n",
       "         1.50398556e-04, 1.52091255e-04, 1.53162812e-04, 1.54130703e-04,\n",
       "         1.54344806e-04, 1.56813549e-04, 1.57778479e-04, 1.58856235e-04,\n",
       "         1.60539412e-04, 1.60539412e-04, 1.61576991e-04, 1.64068909e-04,\n",
       "         1.79468772e-04, 1.79468772e-04, 1.81851246e-04, 1.85219485e-04,\n",
       "         1.85563184e-04, 1.86985789e-04, 1.92492782e-04, 1.94137061e-04,\n",
       "         1.95388824e-04])),\n",
       " (4.205607547410523e-05, 9.720000501662571e-05, 0.9891773041838847))"
      ]
     },
     "execution_count": 54,
     "metadata": {},
     "output_type": "execute_result"
    },
    {
     "data": {
      "image/png": "[encoded data removed]",
      "text/plain": [
       "<Figure size 432x288 with 1 Axes>"
      ]
     },
     "metadata": {
      "needs_background": "light"
     },
     "output_type": "display_data"
    }
   ],
   "source": [
    "stats.probplot(df['price_reciprocal'],plot=pylab)"
   ]
  },
  {
   "cell_type": "code",
   "execution_count": 55,
   "id": "f0956952",
   "metadata": {},
   "outputs": [
    {
     "data": {
      "text/plain": [
       "((array([-2.70235077, -2.39300644, -2.21670641, -2.09047253, -1.99075721,\n",
       "         -1.90762425, -1.83590295, -1.77254445, -1.71559368, -1.66371874,\n",
       "         -1.61596971, -1.57164427, -1.53020786, -1.49124379, -1.45442067,\n",
       "         -1.41947039, -1.38617282, -1.35434495, -1.32383285, -1.29450578,\n",
       "         -1.26625169, -1.2389738 , -1.21258791, -1.18702027, -1.1622059 ,\n",
       "         -1.13808725, -1.11461308, -1.09173755, -1.06941949, -1.04762177,\n",
       "         -1.02631079, -1.005456  , -0.98502958, -0.96500611, -0.94536226,\n",
       "         -0.92607659, -0.90712937, -0.88850233, -0.87017859, -0.85214246,\n",
       "         -0.83437937, -0.81687572, -0.79961884, -0.78259687, -0.76579869,\n",
       "         -0.74921388, -0.73283263, -0.71664571, -0.70064443, -0.68482057,\n",
       "         -0.66916635, -0.65367443, -0.63833783, -0.62314992, -0.60810442,\n",
       "         -0.59319534, -0.57841696, -0.56376385, -0.5492308 , -0.53481284,\n",
       "         -0.52050522, -0.50630336, -0.49220289, -0.47819962, -0.4642895 ,\n",
       "         -0.45046865, -0.43673331, -0.42307988, -0.40950487, -0.39600491,\n",
       "         -0.38257674, -0.3692172 , -0.35592325, -0.3426919 , -0.32952028,\n",
       "         -0.31640558, -0.30334508, -0.29033612, -0.27737611, -0.26446253,\n",
       "         -0.2515929 , -0.23876481, -0.22597589, -0.21322383, -0.20050634,\n",
       "         -0.18782121, -0.17516622, -0.16253923, -0.1499381 , -0.13736074,\n",
       "         -0.12480507, -0.11226904, -0.09975064, -0.08724784, -0.07475867,\n",
       "         -0.06228115, -0.04981332, -0.03735323, -0.02489894, -0.0124485 ,\n",
       "          0.        ,  0.0124485 ,  0.02489894,  0.03735323,  0.04981332,\n",
       "          0.06228115,  0.07475867,  0.08724784,  0.09975064,  0.11226904,\n",
       "          0.12480507,  0.13736074,  0.1499381 ,  0.16253923,  0.17516622,\n",
       "          0.18782121,  0.20050634,  0.21322383,  0.22597589,  0.23876481,\n",
       "          0.2515929 ,  0.26446253,  0.27737611,  0.29033612,  0.30334508,\n",
       "          0.31640558,  0.32952028,  0.3426919 ,  0.35592325,  0.3692172 ,\n",
       "          0.38257674,  0.39600491,  0.40950487,  0.42307988,  0.43673331,\n",
       "          0.45046865,  0.4642895 ,  0.47819962,  0.49220289,  0.50630336,\n",
       "          0.52050522,  0.53481284,  0.5492308 ,  0.56376385,  0.57841696,\n",
       "          0.59319534,  0.60810442,  0.62314992,  0.63833783,  0.65367443,\n",
       "          0.66916635,  0.68482057,  0.70064443,  0.71664571,  0.73283263,\n",
       "          0.74921388,  0.76579869,  0.78259687,  0.79961884,  0.81687572,\n",
       "          0.83437937,  0.85214246,  0.87017859,  0.88850233,  0.90712937,\n",
       "          0.92607659,  0.94536226,  0.96500611,  0.98502958,  1.005456  ,\n",
       "          1.02631079,  1.04762177,  1.06941949,  1.09173755,  1.11461308,\n",
       "          1.13808725,  1.1622059 ,  1.18702027,  1.21258791,  1.2389738 ,\n",
       "          1.26625169,  1.29450578,  1.32383285,  1.35434495,  1.38617282,\n",
       "          1.41947039,  1.45442067,  1.49124379,  1.53020786,  1.57164427,\n",
       "          1.61596971,  1.66371874,  1.71559368,  1.77254445,  1.83590295,\n",
       "          1.90762425,  1.99075721,  2.09047253,  2.21670641,  2.39300644,\n",
       "          2.70235077]),\n",
       "  array([2.20264317e-05, 2.42042842e-05, 2.44140625e-05, 2.70065896e-05,\n",
       "         2.71149675e-05, 2.77777778e-05, 2.81293952e-05, 2.85257873e-05,\n",
       "         2.92534519e-05, 2.93875632e-05, 3.07427447e-05, 3.10077519e-05,\n",
       "         3.16455696e-05, 3.25097529e-05, 3.54007363e-05, 3.54911982e-05,\n",
       "         3.91358798e-05, 4.07083249e-05, 4.18848168e-05, 4.41988950e-05,\n",
       "         4.45037828e-05, 4.54173858e-05, 4.65441005e-05, 4.73821369e-05,\n",
       "         4.76871722e-05, 5.07639982e-05, 5.25072197e-05, 5.27704485e-05,\n",
       "         5.28541226e-05, 5.37056928e-05, 5.42888165e-05, 5.43507799e-05,\n",
       "         5.45137375e-05, 5.47045952e-05, 5.50964187e-05, 5.50964187e-05,\n",
       "         5.57103064e-05, 5.64652739e-05, 5.65962986e-05, 5.73065903e-05,\n",
       "         5.81429153e-05, 5.85651537e-05, 5.90841950e-05, 5.91715976e-05,\n",
       "         5.93647967e-05, 5.98981731e-05, 6.01322910e-05, 6.03937674e-05,\n",
       "         6.05510142e-05, 6.05950433e-05, 6.06060606e-05, 6.06060606e-05,\n",
       "         6.08642727e-05, 6.25078135e-05, 6.25586487e-05, 6.34920635e-05,\n",
       "         6.37348630e-05, 6.39181847e-05, 6.41848524e-05, 6.44745326e-05,\n",
       "         6.55737705e-05, 6.64893617e-05, 6.72540184e-05, 6.90178756e-05,\n",
       "         6.94492673e-05, 7.16845878e-05, 7.21500722e-05, 7.22282412e-05,\n",
       "         7.32869183e-05, 7.40795614e-05, 7.40795614e-05, 7.41015191e-05,\n",
       "         7.45434215e-05, 7.52162467e-05, 7.57575758e-05, 7.71366862e-05,\n",
       "         7.72499034e-05, 7.72797527e-05, 7.83453463e-05, 7.91828332e-05,\n",
       "         8.03858521e-05, 8.13669650e-05, 8.21692687e-05, 8.40336134e-05,\n",
       "         8.43881857e-05, 8.44238075e-05, 8.55139388e-05, 8.62440707e-05,\n",
       "         8.65875833e-05, 8.88178346e-05, 8.89046942e-05, 8.89284126e-05,\n",
       "         8.92936869e-05, 9.05141202e-05, 9.13659205e-05, 9.17599560e-05,\n",
       "         9.26354794e-05, 9.34754160e-05, 9.43841435e-05, 9.66650556e-05,\n",
       "         9.71345313e-05, 9.76085896e-05, 9.80584428e-05, 1.00050025e-04,\n",
       "         1.00110121e-04, 1.00120144e-04, 1.00200401e-04, 1.00401606e-04,\n",
       "         1.00411688e-04, 1.01061142e-04, 1.03745202e-04, 1.04723008e-04,\n",
       "         1.04843783e-04, 1.05318589e-04, 1.07550011e-04, 1.07584723e-04,\n",
       "         1.07770234e-04, 1.07770234e-04, 1.08014690e-04, 1.08307159e-04,\n",
       "         1.09950522e-04, 1.11744329e-04, 1.11756817e-04, 1.12095057e-04,\n",
       "         1.12095057e-04, 1.13058225e-04, 1.13058225e-04, 1.13921167e-04,\n",
       "         1.16849731e-04, 1.17660901e-04, 1.17716304e-04, 1.17716304e-04,\n",
       "         1.18357202e-04, 1.19645848e-04, 1.21226815e-04, 1.21388687e-04,\n",
       "         1.22025625e-04, 1.22115032e-04, 1.24100273e-04, 1.24797205e-04,\n",
       "         1.25015627e-04, 1.25078174e-04, 1.25391850e-04, 1.25675506e-04,\n",
       "         1.25675506e-04, 1.26614333e-04, 1.26614333e-04, 1.26662445e-04,\n",
       "         1.28221567e-04, 1.28402671e-04, 1.28617363e-04, 1.28617363e-04,\n",
       "         1.29232360e-04, 1.30055924e-04, 1.31423314e-04, 1.31423314e-04,\n",
       "         1.31527029e-04, 1.33351113e-04, 1.33994372e-04, 1.35226504e-04,\n",
       "         1.36072935e-04, 1.37005069e-04, 1.37080192e-04, 1.37080192e-04,\n",
       "         1.38927480e-04, 1.40272128e-04, 1.40331182e-04, 1.40864911e-04,\n",
       "         1.41783638e-04, 1.43081986e-04, 1.44133756e-04, 1.44550448e-04,\n",
       "         1.45878920e-04, 1.46006716e-04, 1.47167035e-04, 1.47383935e-04,\n",
       "         1.49365198e-04, 1.49432158e-04, 1.49432158e-04, 1.49947518e-04,\n",
       "         1.50398556e-04, 1.52091255e-04, 1.53162812e-04, 1.54130703e-04,\n",
       "         1.54344806e-04, 1.56813549e-04, 1.57778479e-04, 1.58856235e-04,\n",
       "         1.60539412e-04, 1.60539412e-04, 1.61576991e-04, 1.64068909e-04,\n",
       "         1.79468772e-04, 1.79468772e-04, 1.81851246e-04, 1.85219485e-04,\n",
       "         1.85563184e-04, 1.86985789e-04, 1.92492782e-04, 1.94137061e-04,\n",
       "         1.95388824e-04])),\n",
       " (4.205607547410523e-05, 9.720000501662571e-05, 0.9891773041838847))"
      ]
     },
     "execution_count": 55,
     "metadata": {},
     "output_type": "execute_result"
    }
   ],
   "source": [
    "stats.probplot(df['price_reciprocal'],)"
   ]
  },
  {
   "cell_type": "code",
   "execution_count": null,
   "id": "a6efbbdd",
   "metadata": {},
   "outputs": [],
   "source": []
  }
 ],
 "metadata": {
  "kernelspec": {
   "display_name": "Python 3 (ipykernel)",
   "language": "python",
   "name": "python3"
  },
  "language_info": {
   "codemirror_mode": {
    "name": "ipython",
    "version": 3
   },
   "file_extension": ".py",
   "mimetype": "text/x-python",
   "name": "python",
   "nbconvert_exporter": "python",
   "pygments_lexer": "ipython3",
   "version": "3.11.3"
  }
 },
 "nbformat": 4,
 "nbformat_minor": 5
}
