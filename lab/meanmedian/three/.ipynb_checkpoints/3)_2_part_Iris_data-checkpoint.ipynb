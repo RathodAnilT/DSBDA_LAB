{
 "cells": [
  {
   "cell_type": "code",
   "execution_count": 23,
   "id": "eab97816",
   "metadata": {},
   "outputs": [
    {
     "name": "stdout",
     "output_type": "stream",
     "text": [
      "Iris-setosa\n",
      "             Id  SepalLengthCm  SepalWidthCm  PetalLengthCm  PetalWidthCm\n",
      "count  50.00000       50.00000     50.000000      50.000000      50.00000\n",
      "mean   25.50000        5.00600      3.418000       1.464000       0.24400\n",
      "std    14.57738        0.35249      0.381024       0.173511       0.10721\n",
      "min     1.00000        4.30000      2.300000       1.000000       0.10000\n",
      "25%    13.25000        4.80000      3.125000       1.400000       0.20000\n",
      "50%    25.50000        5.00000      3.400000       1.500000       0.20000\n",
      "75%    37.75000        5.20000      3.675000       1.575000       0.30000\n",
      "max    50.00000        5.80000      4.400000       1.900000       0.60000\n",
      "\n",
      "Iris-versicolor\n",
      "              Id  SepalLengthCm  SepalWidthCm  PetalLengthCm  PetalWidthCm\n",
      "count   50.00000      50.000000     50.000000      50.000000     50.000000\n",
      "mean    75.50000       5.936000      2.770000       4.260000      1.326000\n",
      "std     14.57738       0.516171      0.313798       0.469911      0.197753\n",
      "min     51.00000       4.900000      2.000000       3.000000      1.000000\n",
      "25%     63.25000       5.600000      2.525000       4.000000      1.200000\n",
      "50%     75.50000       5.900000      2.800000       4.350000      1.300000\n",
      "75%     87.75000       6.300000      3.000000       4.600000      1.500000\n",
      "max    100.00000       7.000000      3.400000       5.100000      1.800000\n",
      "\n",
      "Iris-virginica\n",
      "      Id  SepalLengthCm  SepalWidthCm  PetalLengthCm  PetalWidthCm  \\\n",
      "100  101            6.3           3.3            6.0           2.5   \n",
      "101  102            5.8           2.7            5.1           1.9   \n",
      "102  103            7.1           3.0            5.9           2.1   \n",
      "103  104            6.3           2.9            5.6           1.8   \n",
      "104  105            6.5           3.0            5.8           2.2   \n",
      "105  106            7.6           3.0            6.6           2.1   \n",
      "106  107            4.9           2.5            4.5           1.7   \n",
      "107  108            7.3           2.9            6.3           1.8   \n",
      "108  109            6.7           2.5            5.8           1.8   \n",
      "109  110            7.2           3.6            6.1           2.5   \n",
      "110  111            6.5           3.2            5.1           2.0   \n",
      "111  112            6.4           2.7            5.3           1.9   \n",
      "112  113            6.8           3.0            5.5           2.1   \n",
      "113  114            5.7           2.5            5.0           2.0   \n",
      "114  115            5.8           2.8            5.1           2.4   \n",
      "115  116            6.4           3.2            5.3           2.3   \n",
      "116  117            6.5           3.0            5.5           1.8   \n",
      "117  118            7.7           3.8            6.7           2.2   \n",
      "118  119            7.7           2.6            6.9           2.3   \n",
      "119  120            6.0           2.2            5.0           1.5   \n",
      "120  121            6.9           3.2            5.7           2.3   \n",
      "121  122            5.6           2.8            4.9           2.0   \n",
      "122  123            7.7           2.8            6.7           2.0   \n",
      "123  124            6.3           2.7            4.9           1.8   \n",
      "124  125            6.7           3.3            5.7           2.1   \n",
      "125  126            7.2           3.2            6.0           1.8   \n",
      "126  127            6.2           2.8            4.8           1.8   \n",
      "127  128            6.1           3.0            4.9           1.8   \n",
      "128  129            6.4           2.8            5.6           2.1   \n",
      "129  130            7.2           3.0            5.8           1.6   \n",
      "130  131            7.4           2.8            6.1           1.9   \n",
      "131  132            7.9           3.8            6.4           2.0   \n",
      "132  133            6.4           2.8            5.6           2.2   \n",
      "133  134            6.3           2.8            5.1           1.5   \n",
      "134  135            6.1           2.6            5.6           1.4   \n",
      "135  136            7.7           3.0            6.1           2.3   \n",
      "136  137            6.3           3.4            5.6           2.4   \n",
      "137  138            6.4           3.1            5.5           1.8   \n",
      "138  139            6.0           3.0            4.8           1.8   \n",
      "139  140            6.9           3.1            5.4           2.1   \n",
      "140  141            6.7           3.1            5.6           2.4   \n",
      "141  142            6.9           3.1            5.1           2.3   \n",
      "142  143            5.8           2.7            5.1           1.9   \n",
      "143  144            6.8           3.2            5.9           2.3   \n",
      "144  145            6.7           3.3            5.7           2.5   \n",
      "145  146            6.7           3.0            5.2           2.3   \n",
      "146  147            6.3           2.5            5.0           1.9   \n",
      "147  148            6.5           3.0            5.2           2.0   \n",
      "148  149            6.2           3.4            5.4           2.3   \n",
      "149  150            5.9           3.0            5.1           1.8   \n",
      "\n",
      "            Species  \n",
      "100  Iris-virginica  \n",
      "101  Iris-virginica  \n",
      "102  Iris-virginica  \n",
      "103  Iris-virginica  \n",
      "104  Iris-virginica  \n",
      "105  Iris-virginica  \n",
      "106  Iris-virginica  \n",
      "107  Iris-virginica  \n",
      "108  Iris-virginica  \n",
      "109  Iris-virginica  \n",
      "110  Iris-virginica  \n",
      "111  Iris-virginica  \n",
      "112  Iris-virginica  \n",
      "113  Iris-virginica  \n",
      "114  Iris-virginica  \n",
      "115  Iris-virginica  \n",
      "116  Iris-virginica  \n",
      "117  Iris-virginica  \n",
      "118  Iris-virginica  \n",
      "119  Iris-virginica  \n",
      "120  Iris-virginica  \n",
      "121  Iris-virginica  \n",
      "122  Iris-virginica  \n",
      "123  Iris-virginica  \n",
      "124  Iris-virginica  \n",
      "125  Iris-virginica  \n",
      "126  Iris-virginica  \n",
      "127  Iris-virginica  \n",
      "128  Iris-virginica  \n",
      "129  Iris-virginica  \n",
      "130  Iris-virginica  \n",
      "131  Iris-virginica  \n",
      "132  Iris-virginica  \n",
      "133  Iris-virginica  \n",
      "134  Iris-virginica  \n",
      "135  Iris-virginica  \n",
      "136  Iris-virginica  \n",
      "137  Iris-virginica  \n",
      "138  Iris-virginica  \n",
      "139  Iris-virginica  \n",
      "140  Iris-virginica  \n",
      "141  Iris-virginica  \n",
      "142  Iris-virginica  \n",
      "143  Iris-virginica  \n",
      "144  Iris-virginica  \n",
      "145  Iris-virginica  \n",
      "146  Iris-virginica  \n",
      "147  Iris-virginica  \n",
      "148  Iris-virginica  \n",
      "149  Iris-virginica  \n",
      "              Id  SepalLengthCm  SepalWidthCm  PetalLengthCm  PetalWidthCm\n",
      "count   50.00000       50.00000     50.000000      50.000000      50.00000\n",
      "mean   125.50000        6.58800      2.974000       5.552000       2.02600\n",
      "std     14.57738        0.63588      0.322497       0.551895       0.27465\n",
      "min    101.00000        4.90000      2.200000       4.500000       1.40000\n",
      "25%    113.25000        6.22500      2.800000       5.100000       1.80000\n",
      "50%    125.50000        6.50000      3.000000       5.550000       2.00000\n",
      "75%    137.75000        6.90000      3.175000       5.875000       2.30000\n",
      "max    150.00000        7.90000      3.800000       6.900000       2.50000\n"
     ]
    }
   ],
   "source": [
    "import pandas as pd\n",
    "d = pd.read_csv(\"C:/Users/Admin/Downloads/Iris.csv\")\n",
    "print('Iris-setosa')\n",
    "setosa = d['Species'] == 'Iris-setosa'\n",
    "print(d[setosa].describe())\n",
    "print('\\nIris-versicolor')\n",
    "setosa = d['Species'] == 'Iris-versicolor'\n",
    "print(d[setosa].describe())\n",
    "print('\\nIris-virginica')\n",
    "setosa = d['Species'] == 'Iris-virginica'\n",
    "print(d[setosa])\n",
    "print(d[setosa].describe())"
   ]
  },
  {
   "cell_type": "code",
   "execution_count": 3,
   "id": "8c973c35",
   "metadata": {},
   "outputs": [
    {
     "data": {
      "text/plain": [
       "Species\n",
       "Iris-setosa        5.006\n",
       "Iris-versicolor    5.936\n",
       "Iris-virginica     6.588\n",
       "Name: SepalLengthCm, dtype: float64"
      ]
     },
     "execution_count": 3,
     "metadata": {},
     "output_type": "execute_result"
    }
   ],
   "source": [
    "#Species\n",
    "d.groupby([\"Species\"])[\"SepalLengthCm\"].mean()"
   ]
  },
  {
   "cell_type": "code",
   "execution_count": 4,
   "id": "7eac658e",
   "metadata": {},
   "outputs": [
    {
     "data": {
      "text/plain": [
       "Species\n",
       "Iris-setosa        0.352490\n",
       "Iris-versicolor    0.516171\n",
       "Iris-virginica     0.635880\n",
       "Name: SepalLengthCm, dtype: float64"
      ]
     },
     "execution_count": 4,
     "metadata": {},
     "output_type": "execute_result"
    }
   ],
   "source": [
    "d.groupby([\"Species\"])[\"SepalLengthCm\"].std()"
   ]
  },
  {
   "cell_type": "code",
   "execution_count": 22,
   "id": "489efbd9",
   "metadata": {},
   "outputs": [
    {
     "data": {
      "text/html": [
       "<div>\n",
       "<style scoped>\n",
       "    .dataframe tbody tr th:only-of-type {\n",
       "        vertical-align: middle;\n",
       "    }\n",
       "\n",
       "    .dataframe tbody tr th {\n",
       "        vertical-align: top;\n",
       "    }\n",
       "\n",
       "    .dataframe thead th {\n",
       "        text-align: right;\n",
       "    }\n",
       "</style>\n",
       "<table border=\"1\" class=\"dataframe\">\n",
       "  <thead>\n",
       "    <tr style=\"text-align: right;\">\n",
       "      <th></th>\n",
       "      <th>count</th>\n",
       "      <th>mean</th>\n",
       "      <th>std</th>\n",
       "      <th>min</th>\n",
       "      <th>25%</th>\n",
       "      <th>50%</th>\n",
       "      <th>75%</th>\n",
       "      <th>max</th>\n",
       "    </tr>\n",
       "    <tr>\n",
       "      <th>Species</th>\n",
       "      <th></th>\n",
       "      <th></th>\n",
       "      <th></th>\n",
       "      <th></th>\n",
       "      <th></th>\n",
       "      <th></th>\n",
       "      <th></th>\n",
       "      <th></th>\n",
       "    </tr>\n",
       "  </thead>\n",
       "  <tbody>\n",
       "    <tr>\n",
       "      <th>Iris-setosa</th>\n",
       "      <td>50.0</td>\n",
       "      <td>5.006</td>\n",
       "      <td>0.352490</td>\n",
       "      <td>4.3</td>\n",
       "      <td>4.800</td>\n",
       "      <td>5.0</td>\n",
       "      <td>5.2</td>\n",
       "      <td>5.8</td>\n",
       "    </tr>\n",
       "    <tr>\n",
       "      <th>Iris-versicolor</th>\n",
       "      <td>50.0</td>\n",
       "      <td>5.936</td>\n",
       "      <td>0.516171</td>\n",
       "      <td>4.9</td>\n",
       "      <td>5.600</td>\n",
       "      <td>5.9</td>\n",
       "      <td>6.3</td>\n",
       "      <td>7.0</td>\n",
       "    </tr>\n",
       "    <tr>\n",
       "      <th>Iris-virginica</th>\n",
       "      <td>50.0</td>\n",
       "      <td>6.588</td>\n",
       "      <td>0.635880</td>\n",
       "      <td>4.9</td>\n",
       "      <td>6.225</td>\n",
       "      <td>6.5</td>\n",
       "      <td>6.9</td>\n",
       "      <td>7.9</td>\n",
       "    </tr>\n",
       "  </tbody>\n",
       "</table>\n",
       "</div>"
      ],
      "text/plain": [
       "                 count   mean       std  min    25%  50%  75%  max\n",
       "Species                                                           \n",
       "Iris-setosa       50.0  5.006  0.352490  4.3  4.800  5.0  5.2  5.8\n",
       "Iris-versicolor   50.0  5.936  0.516171  4.9  5.600  5.9  6.3  7.0\n",
       "Iris-virginica    50.0  6.588  0.635880  4.9  6.225  6.5  6.9  7.9"
      ]
     },
     "execution_count": 22,
     "metadata": {},
     "output_type": "execute_result"
    }
   ],
   "source": [
    "d.groupby([\"Species\"])[\"SepalLengthCm\"].describe()"
   ]
  },
  {
   "cell_type": "code",
   "execution_count": 30,
   "id": "ffa7d218",
   "metadata": {},
   "outputs": [
    {
     "data": {
      "text/plain": [
       "Species\n",
       "Iris-setosa        5.2\n",
       "Iris-versicolor    6.3\n",
       "Iris-virginica     6.9\n",
       "Name: SepalLengthCm, dtype: float64"
      ]
     },
     "execution_count": 30,
     "metadata": {},
     "output_type": "execute_result"
    }
   ],
   "source": [
    "d.groupby([\"Species\"])[\"SepalLengthCm\"].quantile(q=0.75)"
   ]
  },
  {
   "cell_type": "code",
   "execution_count": 6,
   "id": "0e4fbae9",
   "metadata": {},
   "outputs": [
    {
     "data": {
      "text/plain": [
       "Species\n",
       "Iris-setosa        4.800\n",
       "Iris-versicolor    5.600\n",
       "Iris-virginica     6.225\n",
       "Name: SepalLengthCm, dtype: float64"
      ]
     },
     "execution_count": 6,
     "metadata": {},
     "output_type": "execute_result"
    }
   ],
   "source": [
    "d.groupby([\"Species\"])[\"SepalLengthCm\"].quantile(q=0.25)\n"
   ]
  },
  {
   "cell_type": "code",
   "execution_count": 7,
   "id": "d7316a69",
   "metadata": {},
   "outputs": [
    {
     "data": {
      "text/plain": [
       "Species\n",
       "Iris-setosa        5.0\n",
       "Iris-versicolor    5.9\n",
       "Iris-virginica     6.5\n",
       "Name: SepalLengthCm, dtype: float64"
      ]
     },
     "execution_count": 7,
     "metadata": {},
     "output_type": "execute_result"
    }
   ],
   "source": [
    "d.groupby([\"Species\"])[\"SepalLengthCm\"].quantile(q=0.50)"
   ]
  },
  {
   "cell_type": "code",
   "execution_count": 31,
   "id": "7235cb80",
   "metadata": {},
   "outputs": [
    {
     "name": "stdout",
     "output_type": "stream",
     "text": [
      "Species\n",
      "Iris-setosa        5.006\n",
      "Iris-versicolor    5.936\n",
      "Iris-virginica     6.588\n",
      "Name: SepalLengthCm, dtype: float64\n"
     ]
    }
   ],
   "source": [
    "a=d.groupby([\"Species\"])[\"SepalLengthCm\"].mean()\n",
    "print(a)"
   ]
  },
  {
   "cell_type": "code",
   "execution_count": 33,
   "id": "bd83f791",
   "metadata": {},
   "outputs": [
    {
     "name": "stdout",
     "output_type": "stream",
     "text": [
      "Species\n",
      "Iris-setosa        5.0\n",
      "Iris-versicolor    5.9\n",
      "Iris-virginica     6.5\n",
      "Name: SepalLengthCm, dtype: float64\n"
     ]
    }
   ],
   "source": [
    "b=d.groupby([\"Species\"])[\"SepalLengthCm\"].median()\n",
    "print(b)"
   ]
  },
  {
   "cell_type": "code",
   "execution_count": 34,
   "id": "a1778161",
   "metadata": {},
   "outputs": [],
   "source": [
    "list=[a,b]"
   ]
  },
  {
   "cell_type": "code",
   "execution_count": 35,
   "id": "c59e4219",
   "metadata": {},
   "outputs": [
    {
     "name": "stdout",
     "output_type": "stream",
     "text": [
      "[Species\n",
      "Iris-setosa        5.006\n",
      "Iris-versicolor    5.936\n",
      "Iris-virginica     6.588\n",
      "Name: SepalLengthCm, dtype: float64, Species\n",
      "Iris-setosa        5.0\n",
      "Iris-versicolor    5.9\n",
      "Iris-virginica     6.5\n",
      "Name: SepalLengthCm, dtype: float64]\n"
     ]
    }
   ],
   "source": [
    "print(list)"
   ]
  },
  {
   "cell_type": "code",
   "execution_count": null,
   "id": "b03fb8fb",
   "metadata": {},
   "outputs": [],
   "source": []
  }
 ],
 "metadata": {
  "kernelspec": {
   "display_name": "Python 3 (ipykernel)",
   "language": "python",
   "name": "python3"
  },
  "language_info": {
   "codemirror_mode": {
    "name": "ipython",
    "version": 3
   },
   "file_extension": ".py",
   "mimetype": "text/x-python",
   "name": "python",
   "nbconvert_exporter": "python",
   "pygments_lexer": "ipython3",
   "version": "3.11.3"
  }
 },
 "nbformat": 4,
 "nbformat_minor": 5
}
