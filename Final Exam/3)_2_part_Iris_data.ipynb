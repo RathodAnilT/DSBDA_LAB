{
 "cells": [
  {
   "cell_type": "code",
   "execution_count": null,
   "id": "3039c844-0bad-436f-8e43-0a8a097f57b1",
   "metadata": {},
   "outputs": [],
   "source": [
    "'''3)\n",
    "Perform the following operations on any open source dataset \n",
    "Provide summary statistics (mean, median, minimum, maximum, standard deviation) for \n",
    "a dataset (age, income etc.) with numeric variables grouped by one of the qualitative (categorical) variable. For example, if your categorical variable is age groups and quantitative variable is income, then provide summary statistics of income grouped by the age groups. Create a list that contains a numeric value for each response to the categorical variable.\n",
    "Write a Python program to display some basic statistical details like percentile, mean, standard deviation etc. of the species of ‘Iris-setosa’, ‘Iris-versicolor’ and ‘Iris-versicolor’ of iris.csv dataset.\n",
    "'''"
   ]
  },
  {
   "cell_type": "code",
   "execution_count": 1,
   "id": "eab97816",
   "metadata": {},
   "outputs": [
    {
     "name": "stdout",
     "output_type": "stream",
     "text": [
      "Iris-setosa\n",
      "             Id  SepalLengthCm  SepalWidthCm  PetalLengthCm  PetalWidthCm\n",
      "count  50.00000       50.00000     50.000000      50.000000      50.00000\n",
      "mean   25.50000        5.00600      3.418000       1.464000       0.24400\n",
      "std    14.57738        0.35249      0.381024       0.173511       0.10721\n",
      "min     1.00000        4.30000      2.300000       1.000000       0.10000\n",
      "25%    13.25000        4.80000      3.125000       1.400000       0.20000\n",
      "50%    25.50000        5.00000      3.400000       1.500000       0.20000\n",
      "75%    37.75000        5.20000      3.675000       1.575000       0.30000\n",
      "max    50.00000        5.80000      4.400000       1.900000       0.60000\n",
      "\n",
      "Iris-versicolor\n",
      "              Id  SepalLengthCm  SepalWidthCm  PetalLengthCm  PetalWidthCm\n",
      "count   50.00000      50.000000     50.000000      50.000000     50.000000\n",
      "mean    75.50000       5.936000      2.770000       4.260000      1.326000\n",
      "std     14.57738       0.516171      0.313798       0.469911      0.197753\n",
      "min     51.00000       4.900000      2.000000       3.000000      1.000000\n",
      "25%     63.25000       5.600000      2.525000       4.000000      1.200000\n",
      "50%     75.50000       5.900000      2.800000       4.350000      1.300000\n",
      "75%     87.75000       6.300000      3.000000       4.600000      1.500000\n",
      "max    100.00000       7.000000      3.400000       5.100000      1.800000\n",
      "\n",
      "Iris-virginica\n",
      "              Id  SepalLengthCm  SepalWidthCm  PetalLengthCm  PetalWidthCm\n",
      "count   50.00000       50.00000     50.000000      50.000000      50.00000\n",
      "mean   125.50000        6.58800      2.974000       5.552000       2.02600\n",
      "std     14.57738        0.63588      0.322497       0.551895       0.27465\n",
      "min    101.00000        4.90000      2.200000       4.500000       1.40000\n",
      "25%    113.25000        6.22500      2.800000       5.100000       1.80000\n",
      "50%    125.50000        6.50000      3.000000       5.550000       2.00000\n",
      "75%    137.75000        6.90000      3.175000       5.875000       2.30000\n",
      "max    150.00000        7.90000      3.800000       6.900000       2.50000\n"
     ]
    }
   ],
   "source": [
    "import pandas as pd\n",
    "d = pd.read_csv(\"Iris.csv\")\n",
    "print('Iris-setosa')\n",
    "setosa = d['species'] == 'Iris-setosa'\n",
    "print(d[setosa].describe())\n",
    "print('\\nIris-versicolor')\n",
    "setosa = d['species'] == 'Iris-versicolor'\n",
    "print(d[setosa].describe())\n",
    "print('\\nIris-virginica')\n",
    "setosa = d['species'] == 'Iris-virginica'\n",
    "#print(d[setosa])\n",
    "print(d[setosa].describe())"
   ]
  },
  {
   "cell_type": "code",
   "execution_count": 3,
   "id": "8c973c35",
   "metadata": {},
   "outputs": [
    {
     "data": {
      "text/plain": [
       "species\n",
       "Iris-setosa        5.006\n",
       "Iris-versicolor    5.936\n",
       "Iris-virginica     6.588\n",
       "Name: SepalLengthCm, dtype: float64"
      ]
     },
     "execution_count": 3,
     "metadata": {},
     "output_type": "execute_result"
    }
   ],
   "source": [
    "#Species\n",
    "d.groupby([\"species\"])[\"SepalLengthCm\"].mean()"
   ]
  },
  {
   "cell_type": "code",
   "execution_count": 5,
   "id": "7eac658e",
   "metadata": {},
   "outputs": [
    {
     "data": {
      "text/plain": [
       "species\n",
       "Iris-setosa        0.352490\n",
       "Iris-versicolor    0.516171\n",
       "Iris-virginica     0.635880\n",
       "Name: SepalLengthCm, dtype: float64"
      ]
     },
     "execution_count": 5,
     "metadata": {},
     "output_type": "execute_result"
    }
   ],
   "source": [
    "d.groupby([\"species\"])[\"SepalLengthCm\"].std()"
   ]
  },
  {
   "cell_type": "code",
   "execution_count": 6,
   "id": "489efbd9",
   "metadata": {},
   "outputs": [
    {
     "data": {
      "text/html": [
       "<div>\n",
       "<style scoped>\n",
       "    .dataframe tbody tr th:only-of-type {\n",
       "        vertical-align: middle;\n",
       "    }\n",
       "\n",
       "    .dataframe tbody tr th {\n",
       "        vertical-align: top;\n",
       "    }\n",
       "\n",
       "    .dataframe thead th {\n",
       "        text-align: right;\n",
       "    }\n",
       "</style>\n",
       "<table border=\"1\" class=\"dataframe\">\n",
       "  <thead>\n",
       "    <tr style=\"text-align: right;\">\n",
       "      <th></th>\n",
       "      <th>count</th>\n",
       "      <th>mean</th>\n",
       "      <th>std</th>\n",
       "      <th>min</th>\n",
       "      <th>25%</th>\n",
       "      <th>50%</th>\n",
       "      <th>75%</th>\n",
       "      <th>max</th>\n",
       "    </tr>\n",
       "    <tr>\n",
       "      <th>species</th>\n",
       "      <th></th>\n",
       "      <th></th>\n",
       "      <th></th>\n",
       "      <th></th>\n",
       "      <th></th>\n",
       "      <th></th>\n",
       "      <th></th>\n",
       "      <th></th>\n",
       "    </tr>\n",
       "  </thead>\n",
       "  <tbody>\n",
       "    <tr>\n",
       "      <th>Iris-setosa</th>\n",
       "      <td>50.0</td>\n",
       "      <td>5.006</td>\n",
       "      <td>0.352490</td>\n",
       "      <td>4.3</td>\n",
       "      <td>4.800</td>\n",
       "      <td>5.0</td>\n",
       "      <td>5.2</td>\n",
       "      <td>5.8</td>\n",
       "    </tr>\n",
       "    <tr>\n",
       "      <th>Iris-versicolor</th>\n",
       "      <td>50.0</td>\n",
       "      <td>5.936</td>\n",
       "      <td>0.516171</td>\n",
       "      <td>4.9</td>\n",
       "      <td>5.600</td>\n",
       "      <td>5.9</td>\n",
       "      <td>6.3</td>\n",
       "      <td>7.0</td>\n",
       "    </tr>\n",
       "    <tr>\n",
       "      <th>Iris-virginica</th>\n",
       "      <td>50.0</td>\n",
       "      <td>6.588</td>\n",
       "      <td>0.635880</td>\n",
       "      <td>4.9</td>\n",
       "      <td>6.225</td>\n",
       "      <td>6.5</td>\n",
       "      <td>6.9</td>\n",
       "      <td>7.9</td>\n",
       "    </tr>\n",
       "  </tbody>\n",
       "</table>\n",
       "</div>"
      ],
      "text/plain": [
       "                 count   mean       std  min    25%  50%  75%  max\n",
       "species                                                           \n",
       "Iris-setosa       50.0  5.006  0.352490  4.3  4.800  5.0  5.2  5.8\n",
       "Iris-versicolor   50.0  5.936  0.516171  4.9  5.600  5.9  6.3  7.0\n",
       "Iris-virginica    50.0  6.588  0.635880  4.9  6.225  6.5  6.9  7.9"
      ]
     },
     "execution_count": 6,
     "metadata": {},
     "output_type": "execute_result"
    }
   ],
   "source": [
    "d.groupby([\"species\"])[\"SepalLengthCm\"].describe()"
   ]
  },
  {
   "cell_type": "code",
   "execution_count": 7,
   "id": "ffa7d218",
   "metadata": {},
   "outputs": [
    {
     "data": {
      "text/plain": [
       "species\n",
       "Iris-setosa        5.2\n",
       "Iris-versicolor    6.3\n",
       "Iris-virginica     6.9\n",
       "Name: SepalLengthCm, dtype: float64"
      ]
     },
     "execution_count": 7,
     "metadata": {},
     "output_type": "execute_result"
    }
   ],
   "source": [
    "d.groupby([\"species\"])[\"SepalLengthCm\"].quantile(q=0.75)"
   ]
  },
  {
   "cell_type": "code",
   "execution_count": 8,
   "id": "0e4fbae9",
   "metadata": {},
   "outputs": [
    {
     "data": {
      "text/plain": [
       "species\n",
       "Iris-setosa        4.800\n",
       "Iris-versicolor    5.600\n",
       "Iris-virginica     6.225\n",
       "Name: SepalLengthCm, dtype: float64"
      ]
     },
     "execution_count": 8,
     "metadata": {},
     "output_type": "execute_result"
    }
   ],
   "source": [
    "d.groupby([\"species\"])[\"SepalLengthCm\"].quantile(q=0.25)\n"
   ]
  },
  {
   "cell_type": "code",
   "execution_count": 9,
   "id": "d7316a69",
   "metadata": {},
   "outputs": [
    {
     "data": {
      "text/plain": [
       "species\n",
       "Iris-setosa        5.0\n",
       "Iris-versicolor    5.9\n",
       "Iris-virginica     6.5\n",
       "Name: SepalLengthCm, dtype: float64"
      ]
     },
     "execution_count": 9,
     "metadata": {},
     "output_type": "execute_result"
    }
   ],
   "source": [
    "d.groupby([\"species\"])[\"SepalLengthCm\"].quantile(q=0.50)"
   ]
  },
  {
   "cell_type": "code",
   "execution_count": 10,
   "id": "7235cb80",
   "metadata": {},
   "outputs": [
    {
     "name": "stdout",
     "output_type": "stream",
     "text": [
      "species\n",
      "Iris-setosa        5.006\n",
      "Iris-versicolor    5.936\n",
      "Iris-virginica     6.588\n",
      "Name: SepalLengthCm, dtype: float64\n"
     ]
    }
   ],
   "source": [
    "a=d.groupby([\"species\"])[\"SepalLengthCm\"].mean()\n",
    "print(a)"
   ]
  },
  {
   "cell_type": "code",
   "execution_count": 11,
   "id": "bd83f791",
   "metadata": {},
   "outputs": [
    {
     "name": "stdout",
     "output_type": "stream",
     "text": [
      "species\n",
      "Iris-setosa        5.0\n",
      "Iris-versicolor    5.9\n",
      "Iris-virginica     6.5\n",
      "Name: SepalLengthCm, dtype: float64\n"
     ]
    }
   ],
   "source": [
    "b=d.groupby([\"species\"])[\"SepalLengthCm\"].median()\n",
    "print(b)"
   ]
  },
  {
   "cell_type": "code",
   "execution_count": 12,
   "id": "a1778161",
   "metadata": {},
   "outputs": [],
   "source": [
    "list=[a,b]"
   ]
  },
  {
   "cell_type": "code",
   "execution_count": 13,
   "id": "c59e4219",
   "metadata": {},
   "outputs": [
    {
     "name": "stdout",
     "output_type": "stream",
     "text": [
      "[species\n",
      "Iris-setosa        5.006\n",
      "Iris-versicolor    5.936\n",
      "Iris-virginica     6.588\n",
      "Name: SepalLengthCm, dtype: float64, species\n",
      "Iris-setosa        5.0\n",
      "Iris-versicolor    5.9\n",
      "Iris-virginica     6.5\n",
      "Name: SepalLengthCm, dtype: float64]\n"
     ]
    }
   ],
   "source": [
    "print(list)"
   ]
  },
  {
   "cell_type": "code",
   "execution_count": null,
   "id": "b03fb8fb",
   "metadata": {},
   "outputs": [],
   "source": []
  }
 ],
 "metadata": {
  "kernelspec": {
   "display_name": "Python 3 (ipykernel)",
   "language": "python",
   "name": "python3"
  },
  "language_info": {
   "codemirror_mode": {
    "name": "ipython",
    "version": 3
   },
   "file_extension": ".py",
   "mimetype": "text/x-python",
   "name": "python",
   "nbconvert_exporter": "python",
   "pygments_lexer": "ipython3",
   "version": "3.12.2"
  }
 },
 "nbformat": 4,
 "nbformat_minor": 5
}
